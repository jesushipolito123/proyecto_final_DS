{
 "cells": [
  {
   "cell_type": "markdown",
   "metadata": {},
   "source": [
    "Hola **Jesus**!\n",
    "\n",
    "Soy **Patricio Requena** 👋. Es un placer ser el revisor de tu proyecto el día de hoy!\n",
    "\n",
    "Revisaré tu proyecto detenidamente con el objetivo de ayudarte a mejorar y perfeccionar tus habilidades. Durante mi revisión, identificaré áreas donde puedas hacer mejoras en tu código, señalando específicamente qué y cómo podrías ajustar para optimizar el rendimiento y la claridad de tu proyecto. Además, es importante para mí destacar los aspectos que has manejado excepcionalmente bien. Reconocer tus fortalezas te ayudará a entender qué técnicas y métodos están funcionando a tu favor y cómo puedes aplicarlos en futuras tareas. \n",
    "\n",
    "_**Recuerda que al final de este notebook encontrarás un comentario general de mi parte**_, empecemos!\n",
    "\n",
    "Encontrarás mis comentarios dentro de cajas verdes, amarillas o rojas, ⚠️ **por favor, no muevas, modifiques o borres mis comentarios** ⚠️:\n",
    "\n",
    "\n",
    "<div class=\"alert alert-block alert-success\">\n",
    "<b>Comentario del revisor</b> <a class=“tocSkip”></a>\n",
    "Si todo está perfecto.\n",
    "</div>\n",
    "\n",
    "<div class=\"alert alert-block alert-warning\">\n",
    "<b>Comentario del revisor</b> <a class=“tocSkip”></a>\n",
    "Si tu código está bien pero se puede mejorar o hay algún detalle que le hace falta.\n",
    "</div>\n",
    "\n",
    "<div class=\"alert alert-block alert-danger\">\n",
    "<b>Comentario del revisor</b> <a class=“tocSkip”></a>\n",
    "Si de pronto hace falta algo o existe algún problema con tu código o conclusiones.\n",
    "</div>\n",
    "\n",
    "Puedes responderme de esta forma:\n",
    "<div class=\"alert alert-block alert-info\">\n",
    "<b>Respuesta del estudiante</b> <a class=“tocSkip”></a>\n",
    "</div>"
   ]
  },
  {
   "cell_type": "markdown",
   "metadata": {},
   "source": [
    "----"
   ]
  },
  {
   "cell_type": "markdown",
   "metadata": {},
   "source": [
    "## Descripción del proyecto"
   ]
  },
  {
   "cell_type": "markdown",
   "metadata": {},
   "source": [
    "El presente proyecto tiene el objetivo de identificar el 'churn' ó la tasa de cancelación de los usuarios de la operadora de telecomunicaciones Interconnect. Para ello, se requiere diseñar un prototipo de un modelo de aprendizaje automático que pueda predecir que clientes van a cancelar con base a la informacion recopilada."
   ]
  },
  {
   "cell_type": "markdown",
   "metadata": {},
   "source": [
    "## Parte 1. Inicialización"
   ]
  },
  {
   "cell_type": "code",
   "execution_count": 1,
   "metadata": {},
   "outputs": [],
   "source": [
    "import pandas as pd\n",
    "import numpy as np\n",
    "from functools import reduce\n",
    "import seaborn as sns\n",
    "import matplotlib.pyplot as plt\n",
    "from sklearn.preprocessing import OneHotEncoder\n",
    "import numpy as np\n",
    "from sklearn.preprocessing import StandardScaler\n",
    "from sklearn.naive_bayes import GaussianNB\n",
    "from sklearn.metrics import confusion_matrix, recall_score, precision_score, f1_score, roc_auc_score\n",
    "from sklearn.model_selection import train_test_split\n",
    "from sklearn.linear_model import LogisticRegression\n",
    "from sklearn.utils import shuffle\n",
    "from sklearn.tree import DecisionTreeClassifier\n",
    "from sklearn.ensemble import RandomForestClassifier\n",
    "from lightgbm import LGBMClassifier\n",
    "from lazypredict.Supervised import LazyClassifier\n",
    "from sklearn.metrics import roc_auc_score, accuracy_score\n",
    "import optuna\n",
    "import logging"
   ]
  },
  {
   "cell_type": "code",
   "execution_count": 2,
   "metadata": {},
   "outputs": [],
   "source": [
    "logging.basicConfig(level=logging.WARNING)\n",
    "optuna.logging.set_verbosity(optuna.logging.WARNING)"
   ]
  },
  {
   "cell_type": "code",
   "execution_count": 3,
   "metadata": {},
   "outputs": [
    {
     "ename": "FileNotFoundError",
     "evalue": "[Errno 2] No such file or directory: '/datasets/final_provider/contract.cs'",
     "output_type": "error",
     "traceback": [
      "\u001b[1;31m---------------------------------------------------------------------------\u001b[0m",
      "\u001b[1;31mFileNotFoundError\u001b[0m                         Traceback (most recent call last)",
      "Cell \u001b[1;32mIn[3], line 2\u001b[0m\n\u001b[0;32m      1\u001b[0m \u001b[38;5;66;03m#contract = pd.read_csv('C:/Users/jesus/OneDrive/Documentos/Programacion/Triple Ten/Sprint 17/Proyecto/Data/contract.csv', parse_dates = ['BeginDate'])\u001b[39;00m\n\u001b[1;32m----> 2\u001b[0m contract \u001b[38;5;241m=\u001b[39m pd\u001b[38;5;241m.\u001b[39mread_csv(\u001b[38;5;124m'\u001b[39m\u001b[38;5;124m/datasets/final_provider/contract.cs\u001b[39m\u001b[38;5;124m'\u001b[39m, parse_dates \u001b[38;5;241m=\u001b[39m [\u001b[38;5;124m'\u001b[39m\u001b[38;5;124mBeginDate\u001b[39m\u001b[38;5;124m'\u001b[39m])\n\u001b[0;32m      3\u001b[0m \u001b[38;5;66;03m#personal = pd.read_csv('C:/Users/jesus/OneDrive/Documentos/Programacion/Triple Ten/Sprint 17/Proyecto/Data/personal.csv')\u001b[39;00m\n\u001b[0;32m      4\u001b[0m personal \u001b[38;5;241m=\u001b[39m pd\u001b[38;5;241m.\u001b[39mread_csv(\u001b[38;5;124m'\u001b[39m\u001b[38;5;124m/datasets/final_provider/personal.csv\u001b[39m\u001b[38;5;124m'\u001b[39m)\n",
      "File \u001b[1;32m~\\anaconda3\\Lib\\site-packages\\pandas\\io\\parsers\\readers.py:1026\u001b[0m, in \u001b[0;36mread_csv\u001b[1;34m(filepath_or_buffer, sep, delimiter, header, names, index_col, usecols, dtype, engine, converters, true_values, false_values, skipinitialspace, skiprows, skipfooter, nrows, na_values, keep_default_na, na_filter, verbose, skip_blank_lines, parse_dates, infer_datetime_format, keep_date_col, date_parser, date_format, dayfirst, cache_dates, iterator, chunksize, compression, thousands, decimal, lineterminator, quotechar, quoting, doublequote, escapechar, comment, encoding, encoding_errors, dialect, on_bad_lines, delim_whitespace, low_memory, memory_map, float_precision, storage_options, dtype_backend)\u001b[0m\n\u001b[0;32m   1013\u001b[0m kwds_defaults \u001b[38;5;241m=\u001b[39m _refine_defaults_read(\n\u001b[0;32m   1014\u001b[0m     dialect,\n\u001b[0;32m   1015\u001b[0m     delimiter,\n\u001b[1;32m   (...)\u001b[0m\n\u001b[0;32m   1022\u001b[0m     dtype_backend\u001b[38;5;241m=\u001b[39mdtype_backend,\n\u001b[0;32m   1023\u001b[0m )\n\u001b[0;32m   1024\u001b[0m kwds\u001b[38;5;241m.\u001b[39mupdate(kwds_defaults)\n\u001b[1;32m-> 1026\u001b[0m \u001b[38;5;28;01mreturn\u001b[39;00m _read(filepath_or_buffer, kwds)\n",
      "File \u001b[1;32m~\\anaconda3\\Lib\\site-packages\\pandas\\io\\parsers\\readers.py:620\u001b[0m, in \u001b[0;36m_read\u001b[1;34m(filepath_or_buffer, kwds)\u001b[0m\n\u001b[0;32m    617\u001b[0m _validate_names(kwds\u001b[38;5;241m.\u001b[39mget(\u001b[38;5;124m\"\u001b[39m\u001b[38;5;124mnames\u001b[39m\u001b[38;5;124m\"\u001b[39m, \u001b[38;5;28;01mNone\u001b[39;00m))\n\u001b[0;32m    619\u001b[0m \u001b[38;5;66;03m# Create the parser.\u001b[39;00m\n\u001b[1;32m--> 620\u001b[0m parser \u001b[38;5;241m=\u001b[39m TextFileReader(filepath_or_buffer, \u001b[38;5;241m*\u001b[39m\u001b[38;5;241m*\u001b[39mkwds)\n\u001b[0;32m    622\u001b[0m \u001b[38;5;28;01mif\u001b[39;00m chunksize \u001b[38;5;129;01mor\u001b[39;00m iterator:\n\u001b[0;32m    623\u001b[0m     \u001b[38;5;28;01mreturn\u001b[39;00m parser\n",
      "File \u001b[1;32m~\\anaconda3\\Lib\\site-packages\\pandas\\io\\parsers\\readers.py:1620\u001b[0m, in \u001b[0;36mTextFileReader.__init__\u001b[1;34m(self, f, engine, **kwds)\u001b[0m\n\u001b[0;32m   1617\u001b[0m     \u001b[38;5;28mself\u001b[39m\u001b[38;5;241m.\u001b[39moptions[\u001b[38;5;124m\"\u001b[39m\u001b[38;5;124mhas_index_names\u001b[39m\u001b[38;5;124m\"\u001b[39m] \u001b[38;5;241m=\u001b[39m kwds[\u001b[38;5;124m\"\u001b[39m\u001b[38;5;124mhas_index_names\u001b[39m\u001b[38;5;124m\"\u001b[39m]\n\u001b[0;32m   1619\u001b[0m \u001b[38;5;28mself\u001b[39m\u001b[38;5;241m.\u001b[39mhandles: IOHandles \u001b[38;5;241m|\u001b[39m \u001b[38;5;28;01mNone\u001b[39;00m \u001b[38;5;241m=\u001b[39m \u001b[38;5;28;01mNone\u001b[39;00m\n\u001b[1;32m-> 1620\u001b[0m \u001b[38;5;28mself\u001b[39m\u001b[38;5;241m.\u001b[39m_engine \u001b[38;5;241m=\u001b[39m \u001b[38;5;28mself\u001b[39m\u001b[38;5;241m.\u001b[39m_make_engine(f, \u001b[38;5;28mself\u001b[39m\u001b[38;5;241m.\u001b[39mengine)\n",
      "File \u001b[1;32m~\\anaconda3\\Lib\\site-packages\\pandas\\io\\parsers\\readers.py:1880\u001b[0m, in \u001b[0;36mTextFileReader._make_engine\u001b[1;34m(self, f, engine)\u001b[0m\n\u001b[0;32m   1878\u001b[0m     \u001b[38;5;28;01mif\u001b[39;00m \u001b[38;5;124m\"\u001b[39m\u001b[38;5;124mb\u001b[39m\u001b[38;5;124m\"\u001b[39m \u001b[38;5;129;01mnot\u001b[39;00m \u001b[38;5;129;01min\u001b[39;00m mode:\n\u001b[0;32m   1879\u001b[0m         mode \u001b[38;5;241m+\u001b[39m\u001b[38;5;241m=\u001b[39m \u001b[38;5;124m\"\u001b[39m\u001b[38;5;124mb\u001b[39m\u001b[38;5;124m\"\u001b[39m\n\u001b[1;32m-> 1880\u001b[0m \u001b[38;5;28mself\u001b[39m\u001b[38;5;241m.\u001b[39mhandles \u001b[38;5;241m=\u001b[39m get_handle(\n\u001b[0;32m   1881\u001b[0m     f,\n\u001b[0;32m   1882\u001b[0m     mode,\n\u001b[0;32m   1883\u001b[0m     encoding\u001b[38;5;241m=\u001b[39m\u001b[38;5;28mself\u001b[39m\u001b[38;5;241m.\u001b[39moptions\u001b[38;5;241m.\u001b[39mget(\u001b[38;5;124m\"\u001b[39m\u001b[38;5;124mencoding\u001b[39m\u001b[38;5;124m\"\u001b[39m, \u001b[38;5;28;01mNone\u001b[39;00m),\n\u001b[0;32m   1884\u001b[0m     compression\u001b[38;5;241m=\u001b[39m\u001b[38;5;28mself\u001b[39m\u001b[38;5;241m.\u001b[39moptions\u001b[38;5;241m.\u001b[39mget(\u001b[38;5;124m\"\u001b[39m\u001b[38;5;124mcompression\u001b[39m\u001b[38;5;124m\"\u001b[39m, \u001b[38;5;28;01mNone\u001b[39;00m),\n\u001b[0;32m   1885\u001b[0m     memory_map\u001b[38;5;241m=\u001b[39m\u001b[38;5;28mself\u001b[39m\u001b[38;5;241m.\u001b[39moptions\u001b[38;5;241m.\u001b[39mget(\u001b[38;5;124m\"\u001b[39m\u001b[38;5;124mmemory_map\u001b[39m\u001b[38;5;124m\"\u001b[39m, \u001b[38;5;28;01mFalse\u001b[39;00m),\n\u001b[0;32m   1886\u001b[0m     is_text\u001b[38;5;241m=\u001b[39mis_text,\n\u001b[0;32m   1887\u001b[0m     errors\u001b[38;5;241m=\u001b[39m\u001b[38;5;28mself\u001b[39m\u001b[38;5;241m.\u001b[39moptions\u001b[38;5;241m.\u001b[39mget(\u001b[38;5;124m\"\u001b[39m\u001b[38;5;124mencoding_errors\u001b[39m\u001b[38;5;124m\"\u001b[39m, \u001b[38;5;124m\"\u001b[39m\u001b[38;5;124mstrict\u001b[39m\u001b[38;5;124m\"\u001b[39m),\n\u001b[0;32m   1888\u001b[0m     storage_options\u001b[38;5;241m=\u001b[39m\u001b[38;5;28mself\u001b[39m\u001b[38;5;241m.\u001b[39moptions\u001b[38;5;241m.\u001b[39mget(\u001b[38;5;124m\"\u001b[39m\u001b[38;5;124mstorage_options\u001b[39m\u001b[38;5;124m\"\u001b[39m, \u001b[38;5;28;01mNone\u001b[39;00m),\n\u001b[0;32m   1889\u001b[0m )\n\u001b[0;32m   1890\u001b[0m \u001b[38;5;28;01massert\u001b[39;00m \u001b[38;5;28mself\u001b[39m\u001b[38;5;241m.\u001b[39mhandles \u001b[38;5;129;01mis\u001b[39;00m \u001b[38;5;129;01mnot\u001b[39;00m \u001b[38;5;28;01mNone\u001b[39;00m\n\u001b[0;32m   1891\u001b[0m f \u001b[38;5;241m=\u001b[39m \u001b[38;5;28mself\u001b[39m\u001b[38;5;241m.\u001b[39mhandles\u001b[38;5;241m.\u001b[39mhandle\n",
      "File \u001b[1;32m~\\anaconda3\\Lib\\site-packages\\pandas\\io\\common.py:873\u001b[0m, in \u001b[0;36mget_handle\u001b[1;34m(path_or_buf, mode, encoding, compression, memory_map, is_text, errors, storage_options)\u001b[0m\n\u001b[0;32m    868\u001b[0m \u001b[38;5;28;01melif\u001b[39;00m \u001b[38;5;28misinstance\u001b[39m(handle, \u001b[38;5;28mstr\u001b[39m):\n\u001b[0;32m    869\u001b[0m     \u001b[38;5;66;03m# Check whether the filename is to be opened in binary mode.\u001b[39;00m\n\u001b[0;32m    870\u001b[0m     \u001b[38;5;66;03m# Binary mode does not support 'encoding' and 'newline'.\u001b[39;00m\n\u001b[0;32m    871\u001b[0m     \u001b[38;5;28;01mif\u001b[39;00m ioargs\u001b[38;5;241m.\u001b[39mencoding \u001b[38;5;129;01mand\u001b[39;00m \u001b[38;5;124m\"\u001b[39m\u001b[38;5;124mb\u001b[39m\u001b[38;5;124m\"\u001b[39m \u001b[38;5;129;01mnot\u001b[39;00m \u001b[38;5;129;01min\u001b[39;00m ioargs\u001b[38;5;241m.\u001b[39mmode:\n\u001b[0;32m    872\u001b[0m         \u001b[38;5;66;03m# Encoding\u001b[39;00m\n\u001b[1;32m--> 873\u001b[0m         handle \u001b[38;5;241m=\u001b[39m \u001b[38;5;28mopen\u001b[39m(\n\u001b[0;32m    874\u001b[0m             handle,\n\u001b[0;32m    875\u001b[0m             ioargs\u001b[38;5;241m.\u001b[39mmode,\n\u001b[0;32m    876\u001b[0m             encoding\u001b[38;5;241m=\u001b[39mioargs\u001b[38;5;241m.\u001b[39mencoding,\n\u001b[0;32m    877\u001b[0m             errors\u001b[38;5;241m=\u001b[39merrors,\n\u001b[0;32m    878\u001b[0m             newline\u001b[38;5;241m=\u001b[39m\u001b[38;5;124m\"\u001b[39m\u001b[38;5;124m\"\u001b[39m,\n\u001b[0;32m    879\u001b[0m         )\n\u001b[0;32m    880\u001b[0m     \u001b[38;5;28;01melse\u001b[39;00m:\n\u001b[0;32m    881\u001b[0m         \u001b[38;5;66;03m# Binary mode\u001b[39;00m\n\u001b[0;32m    882\u001b[0m         handle \u001b[38;5;241m=\u001b[39m \u001b[38;5;28mopen\u001b[39m(handle, ioargs\u001b[38;5;241m.\u001b[39mmode)\n",
      "\u001b[1;31mFileNotFoundError\u001b[0m: [Errno 2] No such file or directory: '/datasets/final_provider/contract.cs'"
     ]
    }
   ],
   "source": [
    "#contract = pd.read_csv('C:/Users/jesus/OneDrive/Documentos/Programacion/Triple Ten/Sprint 17/Proyecto/Data/contract.csv', parse_dates = ['BeginDate'])\n",
    "contract = pd.read_csv('/datasets/final_provider/contract.cs', parse_dates = ['BeginDate'])\n",
    "#personal = pd.read_csv('C:/Users/jesus/OneDrive/Documentos/Programacion/Triple Ten/Sprint 17/Proyecto/Data/personal.csv')\n",
    "personal = pd.read_csv('/datasets/final_provider/personal.csv')\n",
    "#internet = pd.read_csv('C:/Users/jesus/OneDrive/Documentos/Programacion/Triple Ten/Sprint 17/Proyecto/Data/internet.csv')\n",
    "internet = pd.read_csv('/datasets/final_provider/internet.csv')\n",
    "#phone = pd.read_csv('C:/Users/jesus/OneDrive/Documentos/Programacion/Triple Ten/Sprint 17/Proyecto/Data/phone.csv')\n",
    "phone = pd.read_csv('/datasets/final_provider/phone.csv')"
   ]
  },
  {
   "cell_type": "markdown",
   "metadata": {},
   "source": [
    "## Parte 2. EDA"
   ]
  },
  {
   "cell_type": "code",
   "execution_count": null,
   "metadata": {},
   "outputs": [],
   "source": [
    "contract.head(5)"
   ]
  },
  {
   "cell_type": "code",
   "execution_count": null,
   "metadata": {},
   "outputs": [],
   "source": [
    "contract['PaymentMethod'].unique()"
   ]
  },
  {
   "cell_type": "code",
   "execution_count": null,
   "metadata": {},
   "outputs": [],
   "source": [
    "contract['EndDate'] = pd.to_datetime(contract['EndDate'], errors = 'coerce')"
   ]
  },
  {
   "cell_type": "markdown",
   "metadata": {},
   "source": [
    "<div class=\"alert alert-block alert-success\">\n",
    "<b>Comentario del revisor (1ra Iteración)</b> <a class=“tocSkip”></a>\n",
    "\n",
    "Buen trabajo convirtiendo el tipo de variable de la columna *EndDate*, esto es clave para tener un flujo de trabajo correcto.\n",
    "\n",
    "</div>"
   ]
  },
  {
   "cell_type": "code",
   "execution_count": null,
   "metadata": {},
   "outputs": [],
   "source": [
    "contract['EndDate'].isna().sum()"
   ]
  },
  {
   "cell_type": "code",
   "execution_count": null,
   "metadata": {},
   "outputs": [],
   "source": [
    "contract.info()"
   ]
  },
  {
   "cell_type": "code",
   "execution_count": null,
   "metadata": {
    "scrolled": true
   },
   "outputs": [],
   "source": [
    "contract.describe()"
   ]
  },
  {
   "cell_type": "code",
   "execution_count": null,
   "metadata": {},
   "outputs": [],
   "source": [
    "contract.head()"
   ]
  },
  {
   "cell_type": "code",
   "execution_count": null,
   "metadata": {},
   "outputs": [],
   "source": [
    "personal.head(5)"
   ]
  },
  {
   "cell_type": "code",
   "execution_count": null,
   "metadata": {},
   "outputs": [],
   "source": [
    "personal.info()"
   ]
  },
  {
   "cell_type": "code",
   "execution_count": null,
   "metadata": {},
   "outputs": [],
   "source": [
    "personal.describe()"
   ]
  },
  {
   "cell_type": "code",
   "execution_count": null,
   "metadata": {},
   "outputs": [],
   "source": [
    "internet.head(5)"
   ]
  },
  {
   "cell_type": "code",
   "execution_count": null,
   "metadata": {},
   "outputs": [],
   "source": [
    "internet['InternetService'].unique()"
   ]
  },
  {
   "cell_type": "code",
   "execution_count": null,
   "metadata": {},
   "outputs": [],
   "source": [
    "internet.info()"
   ]
  },
  {
   "cell_type": "code",
   "execution_count": null,
   "metadata": {
    "scrolled": true
   },
   "outputs": [],
   "source": [
    "internet.describe()"
   ]
  },
  {
   "cell_type": "code",
   "execution_count": null,
   "metadata": {
    "scrolled": true
   },
   "outputs": [],
   "source": [
    "phone.head(5)"
   ]
  },
  {
   "cell_type": "code",
   "execution_count": null,
   "metadata": {},
   "outputs": [],
   "source": [
    "phone.info()"
   ]
  },
  {
   "cell_type": "code",
   "execution_count": null,
   "metadata": {
    "scrolled": true
   },
   "outputs": [],
   "source": [
    "phone.describe()"
   ]
  },
  {
   "cell_type": "code",
   "execution_count": null,
   "metadata": {},
   "outputs": [],
   "source": [
    "dfs = [contract, personal, internet, phone]\n",
    "df = reduce(lambda left, right: pd.merge(left, right, on = 'customerID', how = 'inner'), dfs)\n",
    "df"
   ]
  },
  {
   "cell_type": "code",
   "execution_count": null,
   "metadata": {},
   "outputs": [],
   "source": [
    "df['customerID'].duplicated().sum()"
   ]
  },
  {
   "cell_type": "code",
   "execution_count": null,
   "metadata": {},
   "outputs": [],
   "source": [
    "df['TotalCharges'] = pd.to_numeric(df['TotalCharges'], errors = 'coerce')"
   ]
  },
  {
   "cell_type": "markdown",
   "metadata": {},
   "source": [
    "<div class=\"alert alert-block alert-success\">\n",
    "<b>Comentario del revisor (1ra Iteración)</b> <a class=“tocSkip”></a>\n",
    "\n",
    "Buen trabajo Jesús, es clave la conversión de los datos de la columna *TotalCharges*, es muy común encontrar información con tipos de datos que no correspondan, pero con un adecuado EDA se pueden identificar y hacer los ajustes correctos.\n",
    "\n",
    "</div>"
   ]
  },
  {
   "cell_type": "code",
   "execution_count": null,
   "metadata": {},
   "outputs": [],
   "source": [
    "df['MonthlyCharges'].describe()"
   ]
  },
  {
   "cell_type": "code",
   "execution_count": null,
   "metadata": {
    "scrolled": true
   },
   "outputs": [],
   "source": [
    "df['TotalCharges'].describe()"
   ]
  },
  {
   "cell_type": "code",
   "execution_count": null,
   "metadata": {},
   "outputs": [],
   "source": [
    "df = df.dropna(subset = ['TotalCharges'])"
   ]
  },
  {
   "cell_type": "code",
   "execution_count": null,
   "metadata": {},
   "outputs": [],
   "source": [
    "df.info()"
   ]
  },
  {
   "cell_type": "code",
   "execution_count": null,
   "metadata": {},
   "outputs": [],
   "source": [
    "df.drop(columns='customerID')"
   ]
  },
  {
   "cell_type": "code",
   "execution_count": null,
   "metadata": {},
   "outputs": [],
   "source": [
    "sns.kdeplot(df['TotalCharges'], fill=True, color='blue')\n",
    "\n",
    "plt.title('Gráfico de densidad de TotalCharges')\n",
    "plt.xlabel('TotalChargues')\n",
    "plt.ylabel('Densidad')\n",
    "\n",
    "plt.show()"
   ]
  },
  {
   "cell_type": "code",
   "execution_count": null,
   "metadata": {
    "scrolled": true
   },
   "outputs": [],
   "source": [
    "sns.kdeplot(df['MonthlyCharges'], fill=True, color='blue')\n",
    "\n",
    "plt.title('Gráfico de densidad de MonthlyCharges')\n",
    "plt.xlabel('MonthlyCharges')\n",
    "plt.ylabel('Densidad')\n",
    "\n",
    "plt.show()"
   ]
  },
  {
   "cell_type": "code",
   "execution_count": null,
   "metadata": {},
   "outputs": [],
   "source": [
    "df = df.drop(columns=['customerID', 'SeniorCitizen'])"
   ]
  },
  {
   "cell_type": "markdown",
   "metadata": {},
   "source": [
    "<div class=\"alert alert-block alert-success\">\n",
    "<b>Comentario del revisor (1ra Iteración)</b> <a class=“tocSkip”></a>\n",
    "\n",
    "Excelente idea incluir gráficas para identificar patrones iniciales de los datos. \n",
    "\n",
    "</div>"
   ]
  },
  {
   "cell_type": "markdown",
   "metadata": {},
   "source": [
    "### Analisis Paso 2"
   ]
  },
  {
   "cell_type": "markdown",
   "metadata": {},
   "source": [
    "- Los tipos de valores para las columnas EndDate y TotalChargues eran incorrectas. EndDate se cambió a datetime y TotalChargues a int. \n",
    "- Se eliminó la columna 'CustomerID' dado que lejos de ayudar, perjudica que esta serie permanezca en la data, esto se debe a que el modelo busca encontrar patrones y esta columna lo que tiene son valores unicos.\n",
    "- Hay un claro sezgo a la izquierda en los datos de 'TotalChargues'.\n",
    "- En 'MonthlyChargues' parece observarse una distribución normal."
   ]
  },
  {
   "cell_type": "markdown",
   "metadata": {},
   "source": [
    "## Paso 3. Normalización y codificación"
   ]
  },
  {
   "cell_type": "code",
   "execution_count": null,
   "metadata": {},
   "outputs": [],
   "source": [
    "df.columns"
   ]
  },
  {
   "cell_type": "code",
   "execution_count": null,
   "metadata": {},
   "outputs": [],
   "source": [
    "cat_features = ['Type', 'PaperlessBilling', 'PaymentMethod', 'gender', 'Partner', 'Dependents',\n",
    "       'InternetService', 'OnlineSecurity', 'OnlineBackup', 'DeviceProtection',\n",
    "       'TechSupport', 'StreamingTV', 'StreamingMovies', 'MultipleLines']\n",
    "\n",
    "df = pd.get_dummies(df, columns = cat_features, drop_first = True)"
   ]
  },
  {
   "cell_type": "code",
   "execution_count": null,
   "metadata": {},
   "outputs": [],
   "source": [
    "numeric_features = ['MonthlyCharges', 'TotalCharges']\n",
    "scaler = StandardScaler()\n",
    "df[numeric_features] = scaler.fit_transform(df[numeric_features])"
   ]
  },
  {
   "cell_type": "markdown",
   "metadata": {},
   "source": [
    "### Analisis Paso 3\n",
    "- La data que requeria codificacion era la categorica, en las columnas ['Type', 'PaperlessBilling', 'PaymentMethod', 'gender', 'Partner', 'Dependents', 'InternetService', 'OnlineSecurity', 'OnlineBackup', 'DeviceProtection', 'TechSupport', 'StreamingTV', 'StreamingMovies', 'MultipleLines'] \n",
    "- Se usó el metodo OHE (One Hot Encoder) con el metodo 'get_dummies' con el parametro 'drop_first' en 'True' con el fin de evitar inconvenientes en le procesamiento de la información al dejar columnas innecesarias. \n",
    "- Para la estandarización de los valores numericos se usó el metodo StandardScaler. Estos valores se encuentran en las columnas 'TotalChargues' y 'MonthlyChargues'-"
   ]
  },
  {
   "cell_type": "markdown",
   "metadata": {},
   "source": [
    "<div class=\"alert alert-block alert-success\">\n",
    "<b>Comentario del revisor (1ra Iteracion)</b> <a class=“tocSkip”></a>\n",
    "\n",
    "Muy bien con el encoding, los modelos necesitan de datos numéricos para poder ser entrenados por lo que este paso es muy importante\n",
    "</div>"
   ]
  },
  {
   "cell_type": "markdown",
   "metadata": {},
   "source": [
    "## Paso 4. Continuación EDA"
   ]
  },
  {
   "cell_type": "code",
   "execution_count": null,
   "metadata": {},
   "outputs": [],
   "source": [
    "df['churn'] = df['EndDate'].notnull().astype(int)\n",
    "df"
   ]
  },
  {
   "cell_type": "code",
   "execution_count": null,
   "metadata": {},
   "outputs": [],
   "source": [
    "#reference_date = df['BeginDate'].max()\n",
    "#df['duracion_dias'] = (df['reference_date'] - df['BeginDate']).dt.days\n",
    "#df"
   ]
  },
  {
   "cell_type": "code",
   "execution_count": null,
   "metadata": {},
   "outputs": [],
   "source": [
    "df.dtypes"
   ]
  },
  {
   "cell_type": "code",
   "execution_count": null,
   "metadata": {},
   "outputs": [],
   "source": [
    "def make_features(df, column):\n",
    "    df[f'year {column}'] = df[column].dt.year \n",
    "    df[f'month {column}'] = df[column].dt.month\n",
    "    df[f'day {column}'] = df[column].dt.day\n",
    "    df[f'dayofweek {column}'] = df[column].dt.dayofweek\n",
    "\n",
    "make_features(df, 'BeginDate')\n",
    "make_features(df, 'EndDate')"
   ]
  },
  {
   "cell_type": "code",
   "execution_count": null,
   "metadata": {},
   "outputs": [],
   "source": [
    "print(df['year BeginDate'].min())\n",
    "print(df['year BeginDate'].max())\n",
    "print(df['year EndDate'].min())\n",
    "print(df['year EndDate'].max())"
   ]
  },
  {
   "cell_type": "code",
   "execution_count": null,
   "metadata": {},
   "outputs": [],
   "source": [
    "df.columns"
   ]
  },
  {
   "cell_type": "code",
   "execution_count": null,
   "metadata": {},
   "outputs": [],
   "source": [
    "correlation_with_churn = df.corr()['churn'].sort_values(ascending=False)\n",
    "\n",
    "plt.figure(figsize=(10, 12)) \n",
    "sns.heatmap(correlation_with_churn.to_frame(), annot=True, cmap='rocket', cbar=True, linewidths=0.5)\n",
    "\n",
    "plt.title('Correlations with Churn', fontsize=16)\n",
    "plt.xlabel('Correlation', fontsize=12)\n",
    "plt.ylabel('Variables', fontsize=12)\n",
    "plt.xticks(rotation=45, fontsize=10)\n",
    "plt.yticks(fontsize=10)\n",
    "plt.show()"
   ]
  },
  {
   "cell_type": "code",
   "execution_count": null,
   "metadata": {},
   "outputs": [],
   "source": [
    "columns = ['year EndDate', 'month EndDate', 'day EndDate', 'dayofweek EndDate']\n",
    "\n",
    "fig, axes = plt.subplots(1, 4, figsize=(20, 5), sharey=True)\n",
    "\n",
    "for i, col in enumerate(columns):\n",
    "    sns.kdeplot(df[col].dropna(), fill=True, color='blue', alpha=0.6, ax=axes[i])\n",
    "    axes[i].set_title(col, fontsize=12)\n",
    "    axes[i].set_xlabel('Valores', fontsize=10)\n",
    "    axes[i].set_ylabel('Densidad', fontsize=10 if i == 0 else 0)\n",
    "\n",
    "plt.tight_layout()\n",
    "plt.suptitle('Distribuciones de Densidad de las Columnas', fontsize=16, y=1.05)\n",
    "plt.show()"
   ]
  },
  {
   "cell_type": "code",
   "execution_count": null,
   "metadata": {},
   "outputs": [],
   "source": [
    "columns = ['year BeginDate', 'month BeginDate', 'day BeginDate', 'dayofweek BeginDate']\n",
    "\n",
    "fig, axes = plt.subplots(1, 4, figsize=(20, 5), sharey=True)\n",
    "\n",
    "for i, col in enumerate(columns):\n",
    "    sns.kdeplot(df[col].dropna(), fill=True, color='blue', alpha=0.6, ax=axes[i])\n",
    "    axes[i].set_title(col, fontsize=12)\n",
    "    axes[i].set_xlabel('Valores', fontsize=10)\n",
    "    axes[i].set_ylabel('Densidad', fontsize=10 if i == 0 else 0)\n",
    "\n",
    "plt.tight_layout()\n",
    "plt.suptitle('Distribuciones de Densidad de las Columnas', fontsize=16, y=1.05)\n",
    "plt.show()"
   ]
  },
  {
   "cell_type": "code",
   "execution_count": null,
   "metadata": {},
   "outputs": [],
   "source": [
    "plt.figure(figsize=(6, 4))  # Tamaño ajustado para dos columnas\n",
    "sns.heatmap(\n",
    "    df[['BeginDate', 'EndDate']].isnull(),  # Filtrar columnas\n",
    "    cbar=True,\n",
    "    cbar_kws={'label': 'Missing Data'},\n",
    "    cmap='viridis'\n",
    ")\n",
    "plt.title(\"Missing Data Heatmap (Churn & Duracion de Dias)\", fontsize=16)\n",
    "plt.show()"
   ]
  },
  {
   "cell_type": "markdown",
   "metadata": {},
   "source": [
    "<div class=\"alert alert-block alert-danger\">\n",
    "<b>Comentario del revisor (1ra Iteracion)</b> <a class=“tocSkip”></a>\n",
    "\n",
    "Para esta parte de las gráficas debes dejar la redacción de un comentario con la interpretación de las mismas. Particularmente la última gráfica antes de este comentario no es claro en lo que aporta al proyecto, también te recomendaría revisar la correlación de todas las variables entre sí además de sólo con la variable objetivo. \n",
    "</div>"
   ]
  },
  {
   "cell_type": "code",
   "execution_count": null,
   "metadata": {},
   "outputs": [],
   "source": [
    "df = df.drop(columns=['EndDate', 'BeginDate', 'year EndDate', 'month EndDate', 'day EndDate', 'dayofweek EndDate'], axis=1)"
   ]
  },
  {
   "cell_type": "code",
   "execution_count": null,
   "metadata": {},
   "outputs": [],
   "source": [
    "df.head()"
   ]
  },
  {
   "cell_type": "code",
   "execution_count": null,
   "metadata": {},
   "outputs": [],
   "source": [
    "correlation_with_churn = df.corr()['churn'].sort_values(ascending=False)\n",
    "\n",
    "plt.figure(figsize=(10, 12)) \n",
    "sns.heatmap(correlation_with_churn.to_frame(), annot=True, cmap='rocket', cbar=True, linewidths=0.5)\n",
    "\n",
    "plt.title('Correlations with Churn', fontsize=16)\n",
    "plt.xlabel('Correlation', fontsize=12)\n",
    "plt.ylabel('Variables', fontsize=12)\n",
    "plt.xticks(rotation=45, fontsize=10)\n",
    "plt.yticks(fontsize=10)\n",
    "plt.show()"
   ]
  },
  {
   "cell_type": "code",
   "execution_count": null,
   "metadata": {},
   "outputs": [],
   "source": [
    "correlation_threshold = 0.1  \n",
    "target_variable = 'churn'  \n",
    "\n",
    "# Obtener las correlaciones con la variable objetivo\n",
    "correlations = df.corr()[target_variable]\n",
    "\n",
    "# Filtrar las columnas cuya correlación absoluta sea mayor o igual al umbral\n",
    "columns_to_keep = correlations[correlations.abs() >= correlation_threshold].index\n",
    "\n",
    "# Crear un nuevo DataFrame solo con las columnas seleccionadas\n",
    "df = df[columns_to_keep]\n",
    "\n",
    "print(f\"Columnas seleccionadas (correlación >= {correlation_threshold} o <= -{correlation_threshold}):\")\n",
    "print(df.columns)"
   ]
  },
  {
   "cell_type": "markdown",
   "metadata": {},
   "source": [
    "### Analisis Paso 4.\n",
    "1. Se creo la columna 'churn' la cual contiene valores binarios que representan si el cliente sigue activo o no. 1 = No activo, 0 = Activo.\n",
    "2. Las fechas son cruciales para el fin de este proyecto, predecir el churn, por lo que se dió un procesamiento a estas caracteristicas para generar nuevas, esto debido a que los valores datetime no pueden ser procesados y deben ser convertidos a valores numericos. Por lo que se obtuvieron la columnas 'year', 'month', 'day' y 'weekday' tanto de 'BeginDate' como de 'EndDate'.\n",
    "3. Se generó un grafico de correlación multivariable, solo se dió atención a la correlación entre 'churn' y el resto de caractersticas. Los resultados más destacables fueron: \n",
    "    * Como se esperaba, varias caracteristicas de temporalidad estan altamente correlacionadas con churn.\n",
    "    * Era una posibilidad introducir la variable ternure o duración de días a la data; sin embargo, se obto por no hacerlo debido a que esto iba a perjudicar más que a beneficias. Me explico, para hacer una aproximación de esta información sin usar EndDate, se tenía que usar una fecha de referencia, cualquiera esta hubiese sido (la mas recomendable era la más proxima ó la maxima registrada) el calculo de la duración habría sido sezgado debido a que todos los valores no nulos son valores que se conocen, y por tanto son exactos, por lo que rellenarlos con data diferente habría implicado deliberadamente sezgar nuestra información. Tal vez este enfoque habría sido util si la mayoría de los valores hubiesen sido nulos (usuarios registrados activos), sin embargo, este no es el caso, la mayoría de los usuarios registrados tienen valores no nulos, por lo que rellenar valos nulos con referencias arbitrarias habría representado un sezgo a los datos.\n",
    "4. Podemos deividir en general es dos categorias a las caracteristicas, unas con correlación negativa y otras con positiva:\n",
    "    * Sobre las positivas las mas relevantes son 3: ['year BeginDate', 'PaymenthMethod_Electronic check', 'InternetService_Fiber optic'] con valores de [.34, .27, .26] cada uno respectivamente. Esto implica que a mayores valores tengan estas caracteristicas, mayor será la probabilidad de cancelación del cliente.\n",
    "    * Por el lado de las variables con relación negativa, las más destacadas fueron ['TotalChargues', 'Type_two year', 'OnlineSecurity_Yes', 'TechSupport_Yes', 'OnlineBackup_Yes'], con valores de ['.34', '.29', '.28', '.27', '.26'] respectivamente. Esta relación inversa indica que a mayores valores en estas variables, menor probabilidad habra de que se den de baja los usuarios.\n",
    "\n",
    "5. Se eliminaron las variables que tuvieran un coeficiente de correlación menor a .1 debido a su irrelevancia al modelo y a evitar el riesgo de que estas producieran 'ruido' y distrajeran al modelo de las variables relevantes.\n",
    "6. Se realizaron analisis de funciones de densidad para las variables temporales, tanto para las de inicio como del fin de vida de los usuarios:\n",
    "    * Lo más relevante que observe es que hay temporadas bien diferenciadas del comportamiento de los usuarios para darse de baja. La temporada inicia a finales de septiembre y termina a mediados de febrero. Esto con tendencia a la baja según el muestreo disponible que consta de aproximadamente de poco menos de 2 años. Esto es consistente con la distribución de 'month EndDate' en la que como en la variable de año, aquí se tiene una distribución binomial al principio y al final de sus valores, los cuales representan los meses del mes con su respectivo número (1 al 12), lo que significa que los meses en que se dan de baja las personas son a principio y al final del año.\n",
    "    * Respecto a las variables temporales de BeginDate, en 'year BeginDate' tenemos una distribución dimodal, el primer pico se genera entre los años 2013 y 2015 aproximadamente, y el segundo entre los años 2018 y principios del 2020."
   ]
  },
  {
   "cell_type": "markdown",
   "metadata": {},
   "source": [
    "<div class=\"alert alert-block alert-danger\">\n",
    "<b>Comentario del revisor (1ra Iteracion)</b> <a class=“tocSkip”></a>\n",
    "\n",
    "Cómo mencioné antes deberías revisar la correlación entre cada variable (Puedes omitir las que fueron codificadas si ves que esto te genera una matriz muy grande) y debes también revisar el balance de clases en la variable objetivo `churn` para que sepas si debes aplicar alguna técnica luego o ajustar los modelos según sea el caso\n",
    "</div>"
   ]
  },
  {
   "cell_type": "markdown",
   "metadata": {},
   "source": [
    "<div class=\"alert alert-block alert-success\">\n",
    "<b>Comentario del revisor (2da Iteracion)</b> <a class=“tocSkip”></a>\n",
    "\n",
    "Correcto, siempre procura dejar la redacción con la interpretación de las gráficas que estás mostrando\n",
    "</div>"
   ]
  },
  {
   "cell_type": "markdown",
   "metadata": {},
   "source": [
    "## Paso 5. Segmentación de datos en 3 conjuntos"
   ]
  },
  {
   "cell_type": "code",
   "execution_count": null,
   "metadata": {},
   "outputs": [],
   "source": [
    "x = df.drop(columns = 'churn', axis = 1)\n",
    "y = df['churn']\n",
    "\n",
    "x_train, x_temp, y_train, y_temp = train_test_split(x, y, test_size = 0.4, random_state = 12345)\n",
    "x_val, x_test, y_val, y_test = train_test_split(x_temp, y_temp, test_size = 0.5, random_state = 12345)\n",
    "\n",
    "x_test = x_test.iloc[1:]\n",
    "y_test = y_test.iloc[1:]\n",
    "\n",
    "print(f'Tamaño de caracteristicas en entrenamiento {x_train.shape}')\n",
    "print(f'Tamaño de objetivo en entrenamiento {y_train.shape}')\n",
    "print(f'Tamaño de caracteristicas en validación {x_val.shape}')\n",
    "print(f'Tamaño de objetivo en validación {y_val.shape}')\n",
    "print(f'Tamaño de caracteristicas en test {x_test.shape}')\n",
    "print(f'Tamaño de objetivo en test {y_test.shape}')"
   ]
  },
  {
   "cell_type": "markdown",
   "metadata": {},
   "source": [
    "<div class=\"alert alert-block alert-success\">\n",
    "<b>Comentario del revisor (1ra Iteracion)</b> <a class=“tocSkip”></a>\n",
    "\n",
    "Muy bien, con esto tienes la división correcta para probar cada parte de la evaluación\n",
    "</div>"
   ]
  },
  {
   "cell_type": "markdown",
   "metadata": {},
   "source": [
    "## Paso 6. Análisis de balance de clases. Una o más estrategias. +"
   ]
  },
  {
   "cell_type": "markdown",
   "metadata": {},
   "source": [
    "Utilizaré el metodo en el que indico en un parametro que quiero que las clases esten balanceadas. "
   ]
  },
  {
   "cell_type": "markdown",
   "metadata": {},
   "source": [
    "## Paso 7. Selecciona los modelos con los que vas a trabajar y vas comparar."
   ]
  },
  {
   "cell_type": "code",
   "execution_count": null,
   "metadata": {},
   "outputs": [],
   "source": [
    "models, predictions = LazyClassifier().fit(x_train, x_val, y_train, y_val)\n",
    "print(models[:10])"
   ]
  },
  {
   "cell_type": "markdown",
   "metadata": {},
   "source": [
    "Elegiré primero los modelos que mejor me han dado resultado y luego tomare 1 del metodo LazyClassifier:\n",
    "- RandomForestClassifier\n",
    "- DecisionTreeClassifier\n",
    "- GaussianNB"
   ]
  },
  {
   "cell_type": "markdown",
   "metadata": {},
   "source": [
    "### RandomForestClassifier"
   ]
  },
  {
   "cell_type": "code",
   "execution_count": null,
   "metadata": {},
   "outputs": [],
   "source": [
    "# Asumiendo que tienes un DataFrame llamado x_train con las características\n",
    "# y un vector y_train con las etiquetas (churn)\n",
    "# Supongamos que 'y_train' es la variable objetivo (churn), que está en el rango [0, 1]\n",
    "\n",
    "# Calculamos la matriz de correlación entre las características y el churn\n",
    "correlation_matrix = x_train.corrwith(y_train)\n",
    "\n",
    "# Definir un umbral para filtrar las características con mayor correlación (por ejemplo, > 0.1 en valor absoluto)\n",
    "threshold = 0.1\n",
    "important_features = correlation_matrix[correlation_matrix.abs() > threshold]\n",
    "\n",
    "# Asignar pesos a las muestras\n",
    "# En este caso, las muestras que dependen más de características con alta correlación reciben un mayor peso\n",
    "sample_weights = np.zeros(len(x_train))\n",
    "\n",
    "for feature in important_features.index:\n",
    "    # Si la correlación de la característica con el churn es positiva o negativa,\n",
    "    # las muestras con valores más altos de esa característica recibirán más peso.\n",
    "    # Podemos considerar tanto las correlaciones positivas como negativas.\n",
    "    sample_weights += np.abs(x_train[feature]) * np.abs(correlation_matrix[feature])\n",
    "\n",
    "# Normalizar los pesos si es necesario (esto es opcional, dependiendo de tus necesidades)\n",
    "sample_weights = sample_weights / sample_weights.sum()\n",
    "\n",
    "# Ahora puedes usar `sample_weights` al entrenar tu modelo"
   ]
  },
  {
   "cell_type": "markdown",
   "metadata": {},
   "source": [
    "<div class=\"alert alert-block alert-danger\">\n",
    "<b>Comentario del revisor (1ra Iteracion)</b> <a class=“tocSkip”></a>\n",
    "\n",
    "¿Cuál es la razón de este código? ¿Por qué se generan estos `weights`? ¿En base a que defines el umbral o threshold?\n",
    "</div>"
   ]
  },
  {
   "cell_type": "markdown",
   "metadata": {},
   "source": [
    "<div class=\"alert alert-block alert-danger\">\n",
    "<b>Comentario del revisor (2da Iteracion)</b> <a class=“tocSkip”></a>\n",
    "\n",
    "Sigues teniendo esta parte que no es claro el porque y que aporta al proyecto\n",
    "</div>"
   ]
  },
  {
   "cell_type": "code",
   "execution_count": null,
   "metadata": {},
   "outputs": [],
   "source": [
    "def objective_1(trial):\n",
    "    # Definir los hiperparámetros a optimizar\n",
    "    n_estimators = trial.suggest_int('n_estimators', 50, 200)\n",
    "    max_depth = trial.suggest_int('max_depth', 20, 30)\n",
    "    min_samples_split = trial.suggest_int('min_samples_split', 2, 20)\n",
    "    min_samples_leaf = trial.suggest_int('min_samples_leaf', 1, 5)\n",
    "    class_weight = trial.suggest_categorical('class_weight', ['balanced', 'balanced_subsample', None])\n",
    "\n",
    "    # Crear y entrenar el clasificador con los parámetros sugeridos\n",
    "    model = RandomForestClassifier(\n",
    "        n_estimators=n_estimators,\n",
    "        max_depth=max_depth,\n",
    "        min_samples_split=min_samples_split,\n",
    "        min_samples_leaf=min_samples_leaf,\n",
    "        class_weight=class_weight,\n",
    "        random_state=42\n",
    "    )\n",
    "\n",
    "    model.fit(x_train, y_train, sample_weights)\n",
    "\n",
    "    # Predicciones y evaluación\n",
    "    y_pred = model.predict(x_val)\n",
    "    y_prob = model.predict_proba(x_val)[:, 1]  # Probabilidades para AUC-ROC\n",
    "\n",
    "    # Calcular las métricas\n",
    "    auc_roc = roc_auc_score(y_val, y_prob)\n",
    "    accuracy = accuracy_score(y_val, y_pred)\n",
    "\n",
    "    # Optuna optimiza para la métrica que se devuelve, en este caso, AUC-ROC\n",
    "    return auc_roc\n",
    "\n",
    "# Crear el estudio de Optuna\n",
    "study_1 = optuna.create_study(direction='maximize')\n",
    "\n",
    "# Ejecutar la optimización\n",
    "study_1.optimize(objective_1, n_trials=100)\n",
    "\n",
    "# Imprimir el mejor conjunto de hiperparámetros y las métricas correspondientes\n",
    "print(\"Best hyperparameters:\", study_1.best_params)\n",
    "print(\"Best AUC-ROC:\", study_1.best_value)\n",
    "\n",
    "# Evaluar el modelo con los mejores hiperparámetros\n",
    "best_params_1 = study_1.best_params\n",
    "best_model_1 = RandomForestClassifier(**best_params_1, random_state=42)\n",
    "best_model_1.fit(x_train, y_train)\n",
    "\n",
    "# Predicciones y métricas finales\n",
    "y_pred_1 = best_model_1.predict(x_val)\n",
    "y_prob_1 = best_model_1.predict_proba(x_val)[:, 1]\n",
    "\n",
    "final_accuracy_1 = accuracy_score(y_val, y_pred_1)\n",
    "final_auc_roc_1 = roc_auc_score(y_val, y_prob_1)\n",
    "\n",
    "print(\"Final Accuracy:\", final_accuracy_1)\n",
    "print(\"Final AUC-ROC:\", final_auc_roc_1)"
   ]
  },
  {
   "cell_type": "markdown",
   "metadata": {},
   "source": [
    "#### Prueba con test"
   ]
  },
  {
   "cell_type": "code",
   "execution_count": null,
   "metadata": {},
   "outputs": [],
   "source": [
    "model_1 = RandomForestClassifier(n_estimators= 108, max_depth= 15, min_samples_split= 11, min_samples_leaf= 5, class_weight= 'balanced', random_state=12345)\n",
    "model_1.fit(x_train, y_train, sample_weights)\n",
    "pred_1 = model_1.predict(x_test)\n",
    "prob_1 = best_model_1.predict_proba(x_test)[:, 1]\n",
    "\n",
    "accuracy_1 = accuracy_score(y_test, pred_1)\n",
    "auc_roc_1 = roc_auc_score(y_test, prob_1)\n",
    "\n",
    "print(f'Valor de accuracy para RandomForestClassifier {accuracy_1}')\n",
    "print(f'Valor de AUC_ROC para RandomForestClassifier {auc_roc_1}')"
   ]
  },
  {
   "cell_type": "markdown",
   "metadata": {},
   "source": [
    "### DecisionTreeClassifier"
   ]
  },
  {
   "cell_type": "code",
   "execution_count": null,
   "metadata": {},
   "outputs": [],
   "source": [
    "def objective_2(trial):\n",
    "    # Definir los hiperparámetros a optimizar\n",
    "    max_depth = trial.suggest_int('max_depth', 2, 25)\n",
    "    min_samples_split = trial.suggest_int('min_samples_split', 2, 25)\n",
    "    min_samples_leaf = trial.suggest_int('min_samples_leaf', 1, 20)\n",
    "\n",
    "    # Crear y entrenar el clasificador con los parámetros sugeridos\n",
    "    model = DecisionTreeClassifier(\n",
    "        max_depth = max_depth,\n",
    "        min_samples_split=min_samples_split,\n",
    "        min_samples_leaf=min_samples_leaf,\n",
    "        class_weight = 'balanced',\n",
    "        random_state=42\n",
    "    )\n",
    "\n",
    "    model.fit(x_train, y_train)\n",
    "\n",
    "    # Predicciones y evaluación\n",
    "    y_pred = model.predict(x_val)\n",
    "    y_prob = model.predict_proba(x_val)[:, 1]  # Probabilidades para AUC-ROC\n",
    "\n",
    "    # Calcular las métricas\n",
    "    auc_roc = roc_auc_score(y_val, y_prob)\n",
    "    accuracy = accuracy_score(y_val, y_pred)\n",
    "\n",
    "    # Optuna optimiza para la métrica que se devuelve, en este caso, AUC-ROC\n",
    "    return auc_roc\n",
    "\n",
    "# Crear el estudio de Optuna\n",
    "study_2 = optuna.create_study(direction='maximize')\n",
    "\n",
    "# Ejecutar la optimización\n",
    "study_2.optimize(objective_2, n_trials=50)\n",
    "\n",
    "# Imprimir el mejor conjunto de hiperparámetros y las métricas correspondientes\n",
    "print(\"Best hyperparameters:\", study_2.best_params)\n",
    "print(\"Best AUC-ROC:\", study_2.best_value)\n",
    "\n",
    "# Evaluar el modelo con los mejores hiperparámetros\n",
    "best_params_2 = study_2.best_params\n",
    "best_model_2 = DecisionTreeClassifier(**best_params_2, random_state=42)\n",
    "best_model_2.fit(x_train, y_train)\n",
    "\n",
    "# Predicciones y métricas finales\n",
    "y_pred_2 = best_model_2.predict(x_val)\n",
    "y_prob_2 = best_model_2.predict_proba(x_val)[:, 1]\n",
    "\n",
    "final_accuracy_2 = accuracy_score(y_val, y_pred_2)\n",
    "final_auc_roc_2 = roc_auc_score(y_val, y_prob_2)\n",
    "\n",
    "print(\"Final Accuracy:\", final_accuracy_2)\n",
    "print(\"Final AUC-ROC:\", final_auc_roc_2)"
   ]
  },
  {
   "cell_type": "markdown",
   "metadata": {},
   "source": [
    "#### Prueba con conjunto test"
   ]
  },
  {
   "cell_type": "code",
   "execution_count": null,
   "metadata": {},
   "outputs": [],
   "source": [
    "model_2 = DecisionTreeClassifier(max_depth= 6, min_samples_split= 18, min_samples_leaf= 2)\n",
    "model_2.fit(x_train, y_train)\n",
    "pred_2 = model_2.predict(x_test)\n",
    "prob_2 = best_model_2.predict_proba(x_test)[:, 1]\n",
    "\n",
    "accuracy_2 = accuracy_score(y_test, pred_2)\n",
    "auc_roc_2 = roc_auc_score(y_test, prob_2)\n",
    "\n",
    "print(f'Valor de accuracy para DecisionTreeClassifier {accuracy_2}')\n",
    "print(f'Valor de AUC_ROC para DecisionTreeClassifier {auc_roc_2}')"
   ]
  },
  {
   "cell_type": "markdown",
   "metadata": {},
   "source": [
    "### GaussianNB"
   ]
  },
  {
   "cell_type": "code",
   "execution_count": null,
   "metadata": {},
   "outputs": [],
   "source": [
    "def objective_3(trial):\n",
    "    # Definir los hiperparámetros a optimizar\n",
    "    var_smoothing = trial.suggest_loguniform('var_smoothing', 1e-9, 1e-2)\n",
    "\n",
    "    # Crear y entrenar el clasificador con los parámetros sugeridos\n",
    "    model = GaussianNB(var_smoothing=var_smoothing)\n",
    "\n",
    "    model.fit(x_train, y_train)\n",
    "\n",
    "    # Predicciones y evaluación\n",
    "    y_pred = model.predict(x_val)\n",
    "    y_prob = model.predict_proba(x_val)[:, 1]  # Probabilidades para AUC-ROC\n",
    "\n",
    "    # Calcular las métricas\n",
    "    auc_roc = roc_auc_score(y_val, y_prob)\n",
    "    accuracy = accuracy_score(y_val, y_pred)\n",
    "\n",
    "    # Optuna optimiza para la métrica que se devuelve, en este caso, AUC-ROC\n",
    "    return auc_roc\n",
    "\n",
    "# Crear el estudio de Optuna\n",
    "study_3 = optuna.create_study(direction='maximize')\n",
    "\n",
    "# Ejecutar la optimización\n",
    "study_3.optimize(objective_3, n_trials=50)\n",
    "\n",
    "# Imprimir el mejor conjunto de hiperparámetros y las métricas correspondientes\n",
    "print(\"Best hyperparameters:\", study_3.best_params)\n",
    "print(\"Best AUC-ROC:\", study_3.best_value)\n",
    "\n",
    "# Evaluar el modelo con los mejores hiperparámetros\n",
    "best_params_3 = study_3.best_params\n",
    "best_model_3 = GaussianNB(**best_params_3)\n",
    "best_model_3.fit(x_train, y_train)\n",
    "\n",
    "# Predicciones y métricas finales\n",
    "y_pred_3 = best_model_3.predict(x_val)\n",
    "y_prob_3 = best_model_3.predict_proba(x_val)[:, 1]\n",
    "\n",
    "final_accuracy_3 = accuracy_score(y_val, y_pred_3)\n",
    "final_auc_roc_3 = roc_auc_score(y_val, y_prob_3)\n",
    "\n",
    "print(\"Final Accuracy:\", final_accuracy_3)\n",
    "print(\"Final AUC-ROC:\", final_auc_roc_3)\n"
   ]
  },
  {
   "cell_type": "markdown",
   "metadata": {},
   "source": [
    "#### Prueba con conjunto test"
   ]
  },
  {
   "cell_type": "code",
   "execution_count": null,
   "metadata": {
    "scrolled": true
   },
   "outputs": [],
   "source": [
    "model_3 = GaussianNB(var_smoothing = 4.2104179537407e-05)\n",
    "model_3.fit(x_train, y_train)\n",
    "pred_3 = model_3.predict(x_test)\n",
    "prob_3 = best_model_3.predict_proba(x_test)[:, 1]\n",
    "\n",
    "accuracy_3 = accuracy_score(y_test, pred_3)\n",
    "auc_roc_3 = roc_auc_score(y_test, prob_3)\n",
    "\n",
    "print(f'Valor de accuracy para DecisionTreeClassifier {accuracy_3}')\n",
    "print(f'Valor de AUC_ROC para DecisionTreeClassifier {auc_roc_3}')"
   ]
  },
  {
   "cell_type": "markdown",
   "metadata": {},
   "source": [
    "### Analisis Parte 7"
   ]
  },
  {
   "cell_type": "markdown",
   "metadata": {},
   "source": [
    "- Se opto por usar inicialmente el modelo LasyClssifier para identificar los modelos que me sugerian este meotodo. De ellos solo elegí una debido a que no estoy familiarizado con la gran mayoría. \n",
    "- Se eleigieron los dos modelos que mejor rendimiento han presentado a lo largo de mis proyectos en tareas de clasificación, los cuales fueron RandomForestClassifer y DecisionTreeClassifier. \n",
    "- Se realizó una selección de las variables más relevantes para que se entrenaran con los conjuntos de data para RandomForestClassier y DecisionTreeClassifier.\n",
    "- Se uso el modelo Optuna para encontrar los mejores hiperparametros de manera automatica. \n",
    "- Las metricas de evaluación fueron las señaladas en las indicaciones, la principal AUC-ROC y accuracy. \n",
    "- Despues de entrenarse los modelos con los conjuntos de entrenamiento, se evaluaron con los de validación y por ultimo con los test con los mejores hiperpametros configurados.\n",
    "- El modelo con mejor rendimiento fue el de RandomDecisionTree, con un AUC-ROC de .866 con el conjunto de validación y con el de test fue de .864"
   ]
  },
  {
   "cell_type": "markdown",
   "metadata": {},
   "source": [
    "<div class=\"alert alert-block alert-danger\">\n",
    "<b>Comentario del revisor (1ra Iteracion)</b> <a class=“tocSkip”></a>\n",
    "\n",
    "Vas por buen camino con los entrenamientos, pero estás usando la métrica de `accuracy` y no revisaste si los datos estaban balanceados, el accuracy no es una métrica recomendable si tienes un dataset desbalanceado en cuanto a las clases, te recomendaría utilizar el f1-score y poner cómo umbral un 0.75 de f1-score para tu mejor modelo.\n",
    " \n",
    "Además, no se está revisando si el modelo no se está sobre ajustando, ¿Cómo haces esto? Debes realizar predicciones sobre el conjunto de datos de entrenamiento y obtener la métrica de evaluación (Esto a parte de las métricas con los datos de prueba y validación) con el fin de identificar si el modelo se ajusta correctamente ya que por ejemplo si tienes un modelo que con los datos de entrenamiento tiene una métrica perfecto pero con evaluación y pruebas tiene una métrica muy baja quiere decir que el modelo se está sobre-ajustando (overfitting) y debes aplicar alguna técnica para evitarlo.\n",
    "</div>"
   ]
  },
  {
   "cell_type": "markdown",
   "metadata": {},
   "source": [
    "<div class=\"alert alert-block alert-danger\">\n",
    "<b>Comentario del revisor (2da Iteracion)</b> <a class=“tocSkip”></a>\n",
    "\n",
    "Por favor, realiza las correcciones mencionadas en esta parte, debes evaluar para entrenamiento y prueba para ver si se está sobreajustando y debes evaluar con f1-score los modelos. Saludos!\n",
    "</div>"
   ]
  },
  {
   "cell_type": "markdown",
   "metadata": {},
   "source": [
    "## Paso 8. Conclusión.\n"
   ]
  },
  {
   "cell_type": "markdown",
   "metadata": {},
   "source": [
    "1. La principal conclusión fue que esta muy definido el comportamiento de los usuarios para darse de baja. Se expresa muy bien esto en las graficas de distribución de densidad de las variables temporales derivadas de 'EndDate'. Sin embargo, debido a la metodologia para entrenar los modelos, no puede usarse estas valiosa información, ya que se incurriria en data leakage.\n",
    "    * Solicitud: Si hay manera de poder procesar esta info para entrenar al modelo sin incurrir a data leakage, por favor compartemela.\n",
    "    \n",
    "2. Es muy relevante identificar cuales son las variables que más determinaron a churn, las cuales ya se mencionaron en el analisis del Paso 4. En este espacio explicare más a detalle las interpretaciones de las variables: \n",
    "    * Variables relación positiva ['year BeginDate', 'PaymenthMethod_Electronic check', 'InternetService_Fiber optic']:\n",
    "        * 'year BeginDate': Indica que entre más reciente sea el cliente, mayor es la probabilidad de que se de de baja.\n",
    "        * 'PaymenthMethod_Electronic check' y 'InternetService_Fiber optic': Si un cliente tiene estos servicios, implica que es más probable que se de de baja. INTERPRETACIÓN: En general podemos inferir que hay un problema con estos servicios, las causas pueden ser variadas, como un problema que el servicio de internet por fibra optica esta fallando ó lento. Lo mismo con el pago por cheque, puede que este ocurriendo un problema con este metodo de pago donde las personas hayan encontrados problemas al realizarlo y esto haya implicado una molestia para ellos.\n",
    "    * Variables relación negativa ['TotalChargues', 'Type_two year', 'OnlineSecurity_Yes', 'TechSupport_Yes', 'OnlineBackup_Yes']:\n",
    "        * 'TotalChargues': A mayor pago total, es menos probable que un cliente se de de baja. INTERPRETACION: Al parecer, los clientes que tienen cuentas más grandes, que implican más servicios, son los menos propensos a cancelar, lo que al mismo tiempo nos indica que a menor sea la cuenta de un cliente (y menores servicios contrate) mayor sea la probabilidad de que se de de baja.\n",
    "        * 'OnlineSecurity_Yes' y 'OnlineBackup_Yes': Los clientes que tienen contratado estos servicios son los menos propensos a cancelar. INTERPRETACIÓN: Estos pueden ser los mejores productos con los que cuenta la empresa, por lo que pueden ser lo más adecuados a promover dado su alta tasa de retención.\n",
    "        * 'TechSupport_Yes': Los usuarios que llamaron al servicio al cliente son los que menos cancelan. INTERPRETACIÓN: Parece ser que los usuarios que consultan sus problemas con el servicio al cliente quedan satisfechos, lo que habla de un buen rendimiento de esta de la empresa.\n",
    "        \n",
    "3. SUGERENCIAS:\n",
    "    * Los clientes nuevos son propesos a cancelar, deben de generar estrategias para retener especificamente a los nuevos usuarios que tienen cuentas bajas. Otro enfoque puede ser el de modificar el modelo de negocio para que la empresa se enfoque especificamente a clientes que consumen varios servicios (cuentas altas), lo que se traduciria en un mejor uso de los recursos ya que estos son los clientes que mejor rendientos le da a la empresa por diferencia de costo de adquisicion de usuario y la esperanza de vida de este. \n",
    "    * Deben poner atención a los servicios con relación positiva, ya que estos son factores determinantes para que los clientes se den de baja. Pueden obtar por mejorarlos o eliminarlos. \n",
    "    * Pueden obtar por promover más los prodcutos que expresan mejor satisfacción para los clientes ó enfocar a la empresa a solo proveer estos servicios.\n",
    "    * Dar a conocer o recordar frecuentemente a los usuarios que tienen disponible el servicio al cliente para cualquier problema que tengan, ya que es posible que quienes no llamen al servicio al cliente sea por ignorancia y si es que se hubieran marcado antes, no habrían cancelado. \n",
    "    * Es altamente recomendable que se realicen pruebas de muestreo de usuarios para probar estas y otras hipotesis que puedan surgir derivado de este analisis. "
   ]
  },
  {
   "cell_type": "markdown",
   "metadata": {},
   "source": [
    "## Plan de trabajo"
   ]
  },
  {
   "cell_type": "markdown",
   "metadata": {},
   "source": [
    "- Paso 1. Inicialización: Cargar las librerias que serán usadas en el proyecto. +\n",
    "- Paso 2. EDA: Analisis Explotario de Datos. En este paso se realizan acciones de limpieza, así como de analisis estadisticos con el fin de entender la data. +\n",
    "- Paso 3. Normalización y codificación: Se estandarizan los datos a un mismo rango y se vuelvan comparables / equivalentes. Se codifican las variabes categoricas a numericas para habilitar su procesamiento. +\n",
    "- Paso 4. Continuación de EDA\n",
    "- Paso 5. La segmentación de datos en 3 conjuntos: entrenamiento, validación y prueba.\n",
    "- Paso 6. Análisis de balance de clases. Una o más estrategias. +\n",
    "- Paso 7. Selecciona los modelos con los que vas a trabajar y vas comparar. +\n",
    "- Paso 8. Análisis en cada sección de trabajo y una conclusión general al final del proyecto. "
   ]
  },
  {
   "cell_type": "code",
   "execution_count": null,
   "metadata": {},
   "outputs": [],
   "source": []
  }
 ],
 "metadata": {
  "ExecuteTimeLog": [
   {
    "duration": 321,
    "start_time": "2024-12-22T21:05:26.847Z"
   },
   {
    "duration": 7,
    "start_time": "2024-12-22T21:05:27.927Z"
   },
   {
    "duration": 22,
    "start_time": "2024-12-22T21:05:36.280Z"
   },
   {
    "duration": 12,
    "start_time": "2024-12-22T21:05:44.516Z"
   },
   {
    "duration": 13,
    "start_time": "2024-12-22T21:05:53.407Z"
   },
   {
    "duration": 42,
    "start_time": "2024-12-22T21:06:55.201Z"
   },
   {
    "duration": 3,
    "start_time": "2024-12-22T21:27:21.018Z"
   },
   {
    "duration": 12,
    "start_time": "2024-12-22T21:34:58.895Z"
   },
   {
    "duration": 9,
    "start_time": "2024-12-22T21:35:13.681Z"
   },
   {
    "duration": 9,
    "start_time": "2024-12-22T21:35:54.133Z"
   },
   {
    "duration": 7,
    "start_time": "2024-12-22T21:35:54.714Z"
   },
   {
    "duration": 8,
    "start_time": "2024-12-22T21:35:55.363Z"
   },
   {
    "duration": 6,
    "start_time": "2024-12-22T21:35:55.880Z"
   },
   {
    "duration": 9,
    "start_time": "2024-12-22T21:37:07.035Z"
   },
   {
    "duration": 6,
    "start_time": "2024-12-22T21:37:07.685Z"
   },
   {
    "duration": 9,
    "start_time": "2024-12-22T21:37:08.488Z"
   },
   {
    "duration": 277,
    "start_time": "2024-12-22T21:37:19.588Z"
   },
   {
    "duration": 35,
    "start_time": "2024-12-22T21:37:19.868Z"
   },
   {
    "duration": 13,
    "start_time": "2024-12-22T21:37:19.905Z"
   },
   {
    "duration": 12,
    "start_time": "2024-12-22T21:37:19.920Z"
   },
   {
    "duration": 6,
    "start_time": "2024-12-22T21:37:19.934Z"
   },
   {
    "duration": 9,
    "start_time": "2024-12-22T21:37:19.942Z"
   },
   {
    "duration": 9,
    "start_time": "2024-12-22T21:37:19.952Z"
   },
   {
    "duration": 9,
    "start_time": "2024-12-22T21:37:19.963Z"
   },
   {
    "duration": 5,
    "start_time": "2024-12-22T21:37:19.974Z"
   },
   {
    "duration": 47,
    "start_time": "2024-12-22T21:37:19.981Z"
   },
   {
    "duration": 157,
    "start_time": "2024-12-22T23:31:39.698Z"
   },
   {
    "duration": 321,
    "start_time": "2024-12-22T23:31:53.992Z"
   },
   {
    "duration": 71,
    "start_time": "2024-12-22T23:31:54.315Z"
   },
   {
    "duration": 12,
    "start_time": "2024-12-22T23:31:54.388Z"
   },
   {
    "duration": 10,
    "start_time": "2024-12-22T23:31:54.401Z"
   },
   {
    "duration": 6,
    "start_time": "2024-12-22T23:31:54.414Z"
   },
   {
    "duration": 8,
    "start_time": "2024-12-22T23:31:54.422Z"
   },
   {
    "duration": 9,
    "start_time": "2024-12-22T23:31:54.431Z"
   },
   {
    "duration": 5,
    "start_time": "2024-12-22T23:31:54.441Z"
   },
   {
    "duration": 8,
    "start_time": "2024-12-22T23:31:54.487Z"
   },
   {
    "duration": 6,
    "start_time": "2024-12-22T23:31:54.496Z"
   },
   {
    "duration": 7,
    "start_time": "2024-12-22T23:31:54.504Z"
   },
   {
    "duration": 4,
    "start_time": "2024-12-22T23:34:35.070Z"
   },
   {
    "duration": 284,
    "start_time": "2024-12-22T23:47:44.582Z"
   },
   {
    "duration": 184,
    "start_time": "2024-12-22T23:47:44.869Z"
   },
   {
    "duration": 0,
    "start_time": "2024-12-22T23:47:45.055Z"
   },
   {
    "duration": 0,
    "start_time": "2024-12-22T23:47:45.056Z"
   },
   {
    "duration": 0,
    "start_time": "2024-12-22T23:47:45.058Z"
   },
   {
    "duration": 0,
    "start_time": "2024-12-22T23:47:45.060Z"
   },
   {
    "duration": 0,
    "start_time": "2024-12-22T23:47:45.067Z"
   },
   {
    "duration": 0,
    "start_time": "2024-12-22T23:47:45.067Z"
   },
   {
    "duration": 0,
    "start_time": "2024-12-22T23:47:45.068Z"
   },
   {
    "duration": 0,
    "start_time": "2024-12-22T23:47:45.070Z"
   },
   {
    "duration": 0,
    "start_time": "2024-12-22T23:47:45.086Z"
   },
   {
    "duration": 0,
    "start_time": "2024-12-22T23:47:45.087Z"
   },
   {
    "duration": 38,
    "start_time": "2024-12-22T23:48:36.682Z"
   },
   {
    "duration": 303,
    "start_time": "2024-12-22T23:48:48.225Z"
   },
   {
    "duration": 32,
    "start_time": "2024-12-22T23:48:48.530Z"
   },
   {
    "duration": 14,
    "start_time": "2024-12-22T23:48:48.563Z"
   },
   {
    "duration": 10,
    "start_time": "2024-12-22T23:48:48.578Z"
   },
   {
    "duration": 10,
    "start_time": "2024-12-22T23:48:48.591Z"
   },
   {
    "duration": 7,
    "start_time": "2024-12-22T23:48:48.602Z"
   },
   {
    "duration": 8,
    "start_time": "2024-12-22T23:48:48.611Z"
   },
   {
    "duration": 10,
    "start_time": "2024-12-22T23:48:48.620Z"
   },
   {
    "duration": 4,
    "start_time": "2024-12-22T23:48:48.631Z"
   },
   {
    "duration": 9,
    "start_time": "2024-12-22T23:48:48.637Z"
   },
   {
    "duration": 6,
    "start_time": "2024-12-22T23:48:48.686Z"
   },
   {
    "duration": 8,
    "start_time": "2024-12-22T23:48:48.694Z"
   },
   {
    "duration": 175,
    "start_time": "2024-12-22T23:53:49.018Z"
   },
   {
    "duration": 8,
    "start_time": "2024-12-22T23:54:01.691Z"
   },
   {
    "duration": 290,
    "start_time": "2024-12-22T23:54:08.834Z"
   },
   {
    "duration": 35,
    "start_time": "2024-12-22T23:54:09.126Z"
   },
   {
    "duration": 13,
    "start_time": "2024-12-22T23:54:09.162Z"
   },
   {
    "duration": 10,
    "start_time": "2024-12-22T23:54:09.178Z"
   },
   {
    "duration": 8,
    "start_time": "2024-12-22T23:54:09.190Z"
   },
   {
    "duration": 9,
    "start_time": "2024-12-22T23:54:09.199Z"
   },
   {
    "duration": 6,
    "start_time": "2024-12-22T23:54:09.210Z"
   },
   {
    "duration": 9,
    "start_time": "2024-12-22T23:54:09.217Z"
   },
   {
    "duration": 8,
    "start_time": "2024-12-22T23:54:09.227Z"
   },
   {
    "duration": 49,
    "start_time": "2024-12-22T23:54:09.238Z"
   },
   {
    "duration": 8,
    "start_time": "2024-12-22T23:54:09.289Z"
   },
   {
    "duration": 5,
    "start_time": "2024-12-22T23:54:09.299Z"
   },
   {
    "duration": 7,
    "start_time": "2024-12-22T23:54:09.306Z"
   },
   {
    "duration": 544,
    "start_time": "2024-12-22T23:55:29.832Z"
   },
   {
    "duration": 58,
    "start_time": "2024-12-22T23:56:56.345Z"
   },
   {
    "duration": 5,
    "start_time": "2024-12-22T23:58:27.475Z"
   },
   {
    "duration": 11,
    "start_time": "2024-12-22T23:58:50.812Z"
   },
   {
    "duration": 10,
    "start_time": "2024-12-22T23:58:51.751Z"
   },
   {
    "duration": 324,
    "start_time": "2024-12-22T23:58:58.199Z"
   },
   {
    "duration": 33,
    "start_time": "2024-12-22T23:58:58.525Z"
   },
   {
    "duration": 14,
    "start_time": "2024-12-22T23:58:58.559Z"
   },
   {
    "duration": 4,
    "start_time": "2024-12-22T23:58:58.574Z"
   },
   {
    "duration": 9,
    "start_time": "2024-12-22T23:58:58.588Z"
   },
   {
    "duration": 9,
    "start_time": "2024-12-22T23:58:58.599Z"
   },
   {
    "duration": 6,
    "start_time": "2024-12-22T23:58:58.610Z"
   },
   {
    "duration": 8,
    "start_time": "2024-12-22T23:58:58.618Z"
   },
   {
    "duration": 8,
    "start_time": "2024-12-22T23:58:58.628Z"
   },
   {
    "duration": 3,
    "start_time": "2024-12-22T23:58:58.638Z"
   },
   {
    "duration": 46,
    "start_time": "2024-12-22T23:58:58.643Z"
   },
   {
    "duration": 6,
    "start_time": "2024-12-22T23:58:58.690Z"
   },
   {
    "duration": 7,
    "start_time": "2024-12-22T23:58:58.698Z"
   },
   {
    "duration": 290,
    "start_time": "2024-12-23T00:00:20.135Z"
   },
   {
    "duration": 36,
    "start_time": "2024-12-23T00:00:20.427Z"
   },
   {
    "duration": 14,
    "start_time": "2024-12-23T00:00:20.465Z"
   },
   {
    "duration": 8,
    "start_time": "2024-12-23T00:00:20.481Z"
   },
   {
    "duration": 5,
    "start_time": "2024-12-23T00:00:20.491Z"
   },
   {
    "duration": 10,
    "start_time": "2024-12-23T00:00:20.497Z"
   },
   {
    "duration": 7,
    "start_time": "2024-12-23T00:00:20.508Z"
   },
   {
    "duration": 8,
    "start_time": "2024-12-23T00:00:20.517Z"
   },
   {
    "duration": 8,
    "start_time": "2024-12-23T00:00:20.527Z"
   },
   {
    "duration": 4,
    "start_time": "2024-12-23T00:00:20.538Z"
   },
   {
    "duration": 9,
    "start_time": "2024-12-23T00:00:20.587Z"
   },
   {
    "duration": 6,
    "start_time": "2024-12-23T00:00:20.598Z"
   },
   {
    "duration": 7,
    "start_time": "2024-12-23T00:00:20.605Z"
   },
   {
    "duration": 10,
    "start_time": "2024-12-23T00:02:58.905Z"
   },
   {
    "duration": 10,
    "start_time": "2024-12-23T00:03:15.906Z"
   },
   {
    "duration": 26,
    "start_time": "2024-12-23T00:03:30.580Z"
   },
   {
    "duration": 12,
    "start_time": "2024-12-23T00:03:46.194Z"
   },
   {
    "duration": 306,
    "start_time": "2024-12-23T00:03:52.188Z"
   },
   {
    "duration": 34,
    "start_time": "2024-12-23T00:03:52.497Z"
   },
   {
    "duration": 13,
    "start_time": "2024-12-23T00:03:52.532Z"
   },
   {
    "duration": 4,
    "start_time": "2024-12-23T00:03:52.547Z"
   },
   {
    "duration": 5,
    "start_time": "2024-12-23T00:03:52.553Z"
   },
   {
    "duration": 33,
    "start_time": "2024-12-23T00:03:52.559Z"
   },
   {
    "duration": 9,
    "start_time": "2024-12-23T00:03:52.594Z"
   },
   {
    "duration": 7,
    "start_time": "2024-12-23T00:03:52.604Z"
   },
   {
    "duration": 8,
    "start_time": "2024-12-23T00:03:52.613Z"
   },
   {
    "duration": 8,
    "start_time": "2024-12-23T00:03:52.624Z"
   },
   {
    "duration": 8,
    "start_time": "2024-12-23T00:03:52.633Z"
   },
   {
    "duration": 4,
    "start_time": "2024-12-23T00:03:52.643Z"
   },
   {
    "duration": 8,
    "start_time": "2024-12-23T00:03:52.687Z"
   },
   {
    "duration": 21,
    "start_time": "2024-12-23T00:03:52.697Z"
   },
   {
    "duration": 6,
    "start_time": "2024-12-23T00:03:52.720Z"
   },
   {
    "duration": 8,
    "start_time": "2024-12-23T00:03:52.727Z"
   },
   {
    "duration": 11,
    "start_time": "2024-12-23T00:03:52.736Z"
   },
   {
    "duration": 10,
    "start_time": "2024-12-23T00:04:59.030Z"
   },
   {
    "duration": 8,
    "start_time": "2024-12-23T00:05:12.789Z"
   },
   {
    "duration": 13,
    "start_time": "2024-12-23T00:09:08.352Z"
   },
   {
    "duration": 4,
    "start_time": "2024-12-23T00:10:33.637Z"
   },
   {
    "duration": 4,
    "start_time": "2024-12-23T00:10:38.553Z"
   },
   {
    "duration": 180,
    "start_time": "2024-12-23T00:37:32.599Z"
   },
   {
    "duration": 3,
    "start_time": "2024-12-23T00:37:39.849Z"
   },
   {
    "duration": 14,
    "start_time": "2024-12-23T00:37:43.573Z"
   },
   {
    "duration": 115,
    "start_time": "2024-12-23T00:38:03.711Z"
   },
   {
    "duration": 96,
    "start_time": "2024-12-23T00:38:40.080Z"
   },
   {
    "duration": 17,
    "start_time": "2024-12-23T00:39:03.636Z"
   },
   {
    "duration": 33,
    "start_time": "2024-12-23T00:39:11.505Z"
   },
   {
    "duration": 11,
    "start_time": "2024-12-23T00:40:09.898Z"
   },
   {
    "duration": 11,
    "start_time": "2024-12-23T00:42:24.819Z"
   },
   {
    "duration": 5,
    "start_time": "2024-12-23T00:42:39.921Z"
   },
   {
    "duration": 13,
    "start_time": "2024-12-23T00:42:58.964Z"
   },
   {
    "duration": 375,
    "start_time": "2024-12-23T00:44:10.775Z"
   },
   {
    "duration": 10,
    "start_time": "2024-12-23T00:44:24.759Z"
   },
   {
    "duration": 7,
    "start_time": "2024-12-23T00:45:06.043Z"
   },
   {
    "duration": 8,
    "start_time": "2024-12-23T00:45:06.642Z"
   },
   {
    "duration": 4,
    "start_time": "2024-12-23T00:48:43.705Z"
   },
   {
    "duration": 5,
    "start_time": "2024-12-23T00:52:28.438Z"
   },
   {
    "duration": 4,
    "start_time": "2024-12-23T00:52:34.877Z"
   },
   {
    "duration": 288,
    "start_time": "2024-12-23T00:52:57.477Z"
   },
   {
    "duration": 27,
    "start_time": "2024-12-23T00:53:11.068Z"
   },
   {
    "duration": 309,
    "start_time": "2024-12-23T00:53:41.383Z"
   },
   {
    "duration": 35,
    "start_time": "2024-12-23T00:53:41.696Z"
   },
   {
    "duration": 12,
    "start_time": "2024-12-23T00:53:41.733Z"
   },
   {
    "duration": 4,
    "start_time": "2024-12-23T00:53:41.747Z"
   },
   {
    "duration": 6,
    "start_time": "2024-12-23T00:53:41.754Z"
   },
   {
    "duration": 4,
    "start_time": "2024-12-23T00:53:41.761Z"
   },
   {
    "duration": 10,
    "start_time": "2024-12-23T00:53:41.786Z"
   },
   {
    "duration": 10,
    "start_time": "2024-12-23T00:53:41.797Z"
   },
   {
    "duration": 8,
    "start_time": "2024-12-23T00:53:41.809Z"
   },
   {
    "duration": 7,
    "start_time": "2024-12-23T00:53:41.818Z"
   },
   {
    "duration": 8,
    "start_time": "2024-12-23T00:53:41.827Z"
   },
   {
    "duration": 9,
    "start_time": "2024-12-23T00:53:41.837Z"
   },
   {
    "duration": 46,
    "start_time": "2024-12-23T00:53:41.847Z"
   },
   {
    "duration": 5,
    "start_time": "2024-12-23T00:53:41.896Z"
   },
   {
    "duration": 9,
    "start_time": "2024-12-23T00:53:41.902Z"
   },
   {
    "duration": 21,
    "start_time": "2024-12-23T00:53:41.912Z"
   },
   {
    "duration": 5,
    "start_time": "2024-12-23T00:53:41.935Z"
   },
   {
    "duration": 7,
    "start_time": "2024-12-23T00:53:41.942Z"
   },
   {
    "duration": 12,
    "start_time": "2024-12-23T00:53:41.986Z"
   },
   {
    "duration": 32,
    "start_time": "2024-12-23T00:53:41.999Z"
   },
   {
    "duration": 5,
    "start_time": "2024-12-23T00:53:42.033Z"
   },
   {
    "duration": 5,
    "start_time": "2024-12-23T00:53:42.040Z"
   },
   {
    "duration": 7,
    "start_time": "2024-12-23T00:53:42.048Z"
   },
   {
    "duration": 33,
    "start_time": "2024-12-23T00:53:42.057Z"
   },
   {
    "duration": 426,
    "start_time": "2024-12-23T00:53:52.485Z"
   },
   {
    "duration": 26,
    "start_time": "2024-12-23T00:58:03.536Z"
   },
   {
    "duration": 5,
    "start_time": "2024-12-23T00:58:10.044Z"
   },
   {
    "duration": 4,
    "start_time": "2024-12-23T01:01:52.989Z"
   },
   {
    "duration": 12,
    "start_time": "2024-12-23T01:02:05.607Z"
   },
   {
    "duration": 7,
    "start_time": "2024-12-23T01:02:23.751Z"
   },
   {
    "duration": 3,
    "start_time": "2024-12-23T01:02:55.045Z"
   },
   {
    "duration": 7,
    "start_time": "2024-12-23T01:02:55.723Z"
   },
   {
    "duration": 7,
    "start_time": "2024-12-23T01:02:56.729Z"
   },
   {
    "duration": 12,
    "start_time": "2024-12-23T01:13:40.057Z"
   },
   {
    "duration": 14,
    "start_time": "2024-12-23T01:13:53.866Z"
   },
   {
    "duration": 7,
    "start_time": "2024-12-23T01:14:47.919Z"
   },
   {
    "duration": 12,
    "start_time": "2024-12-23T01:14:53.894Z"
   },
   {
    "duration": 4,
    "start_time": "2024-12-23T01:15:21.827Z"
   },
   {
    "duration": 13,
    "start_time": "2024-12-23T01:15:23.642Z"
   },
   {
    "duration": 443,
    "start_time": "2024-12-23T01:17:45.351Z"
   },
   {
    "duration": 7,
    "start_time": "2024-12-23T01:18:23.035Z"
   },
   {
    "duration": 12,
    "start_time": "2024-12-23T01:18:25.788Z"
   },
   {
    "duration": 15,
    "start_time": "2024-12-23T01:24:19.082Z"
   },
   {
    "duration": 2310,
    "start_time": "2024-12-23T01:24:25.223Z"
   },
   {
    "duration": 283,
    "start_time": "2024-12-23T01:24:33.781Z"
   },
   {
    "duration": 214,
    "start_time": "2024-12-23T01:25:10.249Z"
   },
   {
    "duration": 4,
    "start_time": "2024-12-23T01:26:47.260Z"
   },
   {
    "duration": 21,
    "start_time": "2024-12-23T01:26:56.831Z"
   },
   {
    "duration": 174,
    "start_time": "2024-12-23T01:27:25.969Z"
   },
   {
    "duration": 36,
    "start_time": "2024-12-23T01:27:37.572Z"
   },
   {
    "duration": 775,
    "start_time": "2024-12-23T01:28:06.034Z"
   },
   {
    "duration": 43,
    "start_time": "2024-12-23T01:28:06.812Z"
   },
   {
    "duration": 12,
    "start_time": "2024-12-23T01:28:06.857Z"
   },
   {
    "duration": 4,
    "start_time": "2024-12-23T01:28:06.870Z"
   },
   {
    "duration": 5,
    "start_time": "2024-12-23T01:28:06.888Z"
   },
   {
    "duration": 3,
    "start_time": "2024-12-23T01:28:06.895Z"
   },
   {
    "duration": 10,
    "start_time": "2024-12-23T01:28:06.900Z"
   },
   {
    "duration": 10,
    "start_time": "2024-12-23T01:28:06.912Z"
   },
   {
    "duration": 8,
    "start_time": "2024-12-23T01:28:06.923Z"
   },
   {
    "duration": 7,
    "start_time": "2024-12-23T01:28:06.933Z"
   },
   {
    "duration": 46,
    "start_time": "2024-12-23T01:28:06.942Z"
   },
   {
    "duration": 10,
    "start_time": "2024-12-23T01:28:06.992Z"
   },
   {
    "duration": 8,
    "start_time": "2024-12-23T01:28:07.003Z"
   },
   {
    "duration": 3,
    "start_time": "2024-12-23T01:28:07.015Z"
   },
   {
    "duration": 9,
    "start_time": "2024-12-23T01:28:07.020Z"
   },
   {
    "duration": 21,
    "start_time": "2024-12-23T01:28:07.030Z"
   },
   {
    "duration": 6,
    "start_time": "2024-12-23T01:28:07.086Z"
   },
   {
    "duration": 9,
    "start_time": "2024-12-23T01:28:07.093Z"
   },
   {
    "duration": 11,
    "start_time": "2024-12-23T01:28:07.104Z"
   },
   {
    "duration": 32,
    "start_time": "2024-12-23T01:28:07.117Z"
   },
   {
    "duration": 34,
    "start_time": "2024-12-23T01:28:07.151Z"
   },
   {
    "duration": 4,
    "start_time": "2024-12-23T01:28:07.187Z"
   },
   {
    "duration": 7,
    "start_time": "2024-12-23T01:28:07.193Z"
   },
   {
    "duration": 6,
    "start_time": "2024-12-23T01:28:07.201Z"
   },
   {
    "duration": 6,
    "start_time": "2024-12-23T01:28:07.209Z"
   },
   {
    "duration": 11,
    "start_time": "2024-12-23T01:28:07.217Z"
   },
   {
    "duration": 237,
    "start_time": "2024-12-23T01:28:07.230Z"
   },
   {
    "duration": 245,
    "start_time": "2024-12-23T01:28:07.469Z"
   },
   {
    "duration": 895,
    "start_time": "2024-12-23T01:28:07.717Z"
   },
   {
    "duration": 0,
    "start_time": "2024-12-23T01:28:08.614Z"
   },
   {
    "duration": 4,
    "start_time": "2024-12-23T01:28:34.928Z"
   },
   {
    "duration": 18,
    "start_time": "2024-12-23T01:28:36.027Z"
   },
   {
    "duration": 230,
    "start_time": "2024-12-23T01:33:14.266Z"
   },
   {
    "duration": 2923,
    "start_time": "2024-12-24T02:52:02.290Z"
   },
   {
    "duration": 3,
    "start_time": "2024-12-24T02:52:13.558Z"
   },
   {
    "duration": 998,
    "start_time": "2024-12-24T02:58:03.256Z"
   },
   {
    "duration": 87,
    "start_time": "2024-12-24T02:58:04.256Z"
   },
   {
    "duration": 12,
    "start_time": "2024-12-24T02:58:04.345Z"
   },
   {
    "duration": 4,
    "start_time": "2024-12-24T02:58:04.359Z"
   },
   {
    "duration": 59,
    "start_time": "2024-12-24T02:58:04.367Z"
   },
   {
    "duration": 8,
    "start_time": "2024-12-24T02:58:04.428Z"
   },
   {
    "duration": 13,
    "start_time": "2024-12-24T02:58:04.439Z"
   },
   {
    "duration": 12,
    "start_time": "2024-12-24T02:58:04.454Z"
   },
   {
    "duration": 9,
    "start_time": "2024-12-24T02:58:04.469Z"
   },
   {
    "duration": 7,
    "start_time": "2024-12-24T02:58:04.479Z"
   },
   {
    "duration": 11,
    "start_time": "2024-12-24T02:58:04.487Z"
   },
   {
    "duration": 8,
    "start_time": "2024-12-24T02:58:04.500Z"
   },
   {
    "duration": 7,
    "start_time": "2024-12-24T02:58:04.510Z"
   },
   {
    "duration": 4,
    "start_time": "2024-12-24T02:58:04.521Z"
   },
   {
    "duration": 8,
    "start_time": "2024-12-24T02:58:04.526Z"
   },
   {
    "duration": 62,
    "start_time": "2024-12-24T02:58:04.536Z"
   },
   {
    "duration": 8,
    "start_time": "2024-12-24T02:58:04.600Z"
   },
   {
    "duration": 8,
    "start_time": "2024-12-24T02:58:04.609Z"
   },
   {
    "duration": 10,
    "start_time": "2024-12-24T02:58:04.619Z"
   },
   {
    "duration": 61,
    "start_time": "2024-12-24T02:58:04.631Z"
   },
   {
    "duration": 5,
    "start_time": "2024-12-24T02:58:04.695Z"
   },
   {
    "duration": 4,
    "start_time": "2024-12-24T02:58:04.701Z"
   },
   {
    "duration": 6,
    "start_time": "2024-12-24T02:58:04.707Z"
   },
   {
    "duration": 8,
    "start_time": "2024-12-24T02:58:04.714Z"
   },
   {
    "duration": 5,
    "start_time": "2024-12-24T02:58:04.723Z"
   },
   {
    "duration": 11,
    "start_time": "2024-12-24T02:58:04.730Z"
   },
   {
    "duration": 51,
    "start_time": "2024-12-24T02:58:04.743Z"
   },
   {
    "duration": 238,
    "start_time": "2024-12-24T02:58:04.795Z"
   },
   {
    "duration": 224,
    "start_time": "2024-12-24T02:58:05.036Z"
   },
   {
    "duration": 11,
    "start_time": "2024-12-24T02:58:05.262Z"
   },
   {
    "duration": 4,
    "start_time": "2024-12-24T02:58:05.274Z"
   },
   {
    "duration": 236,
    "start_time": "2024-12-24T03:05:02.469Z"
   },
   {
    "duration": 15,
    "start_time": "2024-12-24T03:05:11.109Z"
   },
   {
    "duration": 427,
    "start_time": "2024-12-24T03:05:45.321Z"
   },
   {
    "duration": 2850,
    "start_time": "2024-12-24T21:08:27.872Z"
   },
   {
    "duration": 160,
    "start_time": "2024-12-24T22:09:45.811Z"
   },
   {
    "duration": 2830,
    "start_time": "2024-12-24T22:09:55.819Z"
   },
   {
    "duration": 84,
    "start_time": "2024-12-24T22:09:58.651Z"
   },
   {
    "duration": 13,
    "start_time": "2024-12-24T22:09:58.738Z"
   },
   {
    "duration": 4,
    "start_time": "2024-12-24T22:09:58.754Z"
   },
   {
    "duration": 5,
    "start_time": "2024-12-24T22:09:58.759Z"
   },
   {
    "duration": 4,
    "start_time": "2024-12-24T22:09:58.766Z"
   },
   {
    "duration": 10,
    "start_time": "2024-12-24T22:09:58.772Z"
   },
   {
    "duration": 10,
    "start_time": "2024-12-24T22:09:58.784Z"
   },
   {
    "duration": 42,
    "start_time": "2024-12-24T22:09:58.795Z"
   },
   {
    "duration": 6,
    "start_time": "2024-12-24T22:09:58.842Z"
   },
   {
    "duration": 9,
    "start_time": "2024-12-24T22:09:58.850Z"
   },
   {
    "duration": 9,
    "start_time": "2024-12-24T22:09:58.860Z"
   },
   {
    "duration": 9,
    "start_time": "2024-12-24T22:09:58.870Z"
   },
   {
    "duration": 5,
    "start_time": "2024-12-24T22:09:58.880Z"
   },
   {
    "duration": 46,
    "start_time": "2024-12-24T22:09:58.887Z"
   },
   {
    "duration": 22,
    "start_time": "2024-12-24T22:09:58.936Z"
   },
   {
    "duration": 6,
    "start_time": "2024-12-24T22:09:58.960Z"
   },
   {
    "duration": 8,
    "start_time": "2024-12-24T22:09:58.967Z"
   },
   {
    "duration": 12,
    "start_time": "2024-12-24T22:09:58.977Z"
   },
   {
    "duration": 69,
    "start_time": "2024-12-24T22:09:58.990Z"
   },
   {
    "duration": 5,
    "start_time": "2024-12-24T22:09:59.061Z"
   },
   {
    "duration": 4,
    "start_time": "2024-12-24T22:09:59.068Z"
   },
   {
    "duration": 7,
    "start_time": "2024-12-24T22:09:59.074Z"
   },
   {
    "duration": 8,
    "start_time": "2024-12-24T22:09:59.082Z"
   },
   {
    "duration": 6,
    "start_time": "2024-12-24T22:09:59.091Z"
   },
   {
    "duration": 43,
    "start_time": "2024-12-24T22:09:59.098Z"
   },
   {
    "duration": 19,
    "start_time": "2024-12-24T22:09:59.143Z"
   },
   {
    "duration": 248,
    "start_time": "2024-12-24T22:09:59.166Z"
   },
   {
    "duration": 297,
    "start_time": "2024-12-24T22:09:59.417Z"
   },
   {
    "duration": 3,
    "start_time": "2024-12-24T22:09:59.716Z"
   },
   {
    "duration": 149,
    "start_time": "2024-12-24T22:09:59.731Z"
   },
   {
    "duration": 5,
    "start_time": "2024-12-24T22:10:06.274Z"
   },
   {
    "duration": 124,
    "start_time": "2024-12-24T22:11:02.711Z"
   },
   {
    "duration": 65,
    "start_time": "2024-12-24T22:11:11.875Z"
   },
   {
    "duration": 454,
    "start_time": "2024-12-24T22:11:16.157Z"
   },
   {
    "duration": 64,
    "start_time": "2024-12-24T22:13:10.408Z"
   },
   {
    "duration": 991,
    "start_time": "2024-12-24T22:14:29.398Z"
   },
   {
    "duration": 45,
    "start_time": "2024-12-24T22:14:30.391Z"
   },
   {
    "duration": 13,
    "start_time": "2024-12-24T22:14:30.440Z"
   },
   {
    "duration": 4,
    "start_time": "2024-12-24T22:14:30.455Z"
   },
   {
    "duration": 5,
    "start_time": "2024-12-24T22:14:30.461Z"
   },
   {
    "duration": 4,
    "start_time": "2024-12-24T22:14:30.468Z"
   },
   {
    "duration": 12,
    "start_time": "2024-12-24T22:14:30.473Z"
   },
   {
    "duration": 46,
    "start_time": "2024-12-24T22:14:30.486Z"
   },
   {
    "duration": 9,
    "start_time": "2024-12-24T22:14:30.536Z"
   },
   {
    "duration": 13,
    "start_time": "2024-12-24T22:14:30.547Z"
   },
   {
    "duration": 11,
    "start_time": "2024-12-24T22:14:30.561Z"
   },
   {
    "duration": 15,
    "start_time": "2024-12-24T22:14:30.574Z"
   },
   {
    "duration": 14,
    "start_time": "2024-12-24T22:14:30.591Z"
   },
   {
    "duration": 28,
    "start_time": "2024-12-24T22:14:30.606Z"
   },
   {
    "duration": 13,
    "start_time": "2024-12-24T22:14:30.636Z"
   },
   {
    "duration": 26,
    "start_time": "2024-12-24T22:14:30.651Z"
   },
   {
    "duration": 6,
    "start_time": "2024-12-24T22:14:30.680Z"
   },
   {
    "duration": 46,
    "start_time": "2024-12-24T22:14:30.689Z"
   },
   {
    "duration": 13,
    "start_time": "2024-12-24T22:14:30.738Z"
   },
   {
    "duration": 43,
    "start_time": "2024-12-24T22:14:30.753Z"
   },
   {
    "duration": 4,
    "start_time": "2024-12-24T22:14:30.798Z"
   },
   {
    "duration": 5,
    "start_time": "2024-12-24T22:14:30.831Z"
   },
   {
    "duration": 7,
    "start_time": "2024-12-24T22:14:30.838Z"
   },
   {
    "duration": 18,
    "start_time": "2024-12-24T22:14:30.846Z"
   },
   {
    "duration": 7,
    "start_time": "2024-12-24T22:14:30.866Z"
   },
   {
    "duration": 14,
    "start_time": "2024-12-24T22:14:30.877Z"
   },
   {
    "duration": 38,
    "start_time": "2024-12-24T22:14:30.896Z"
   },
   {
    "duration": 278,
    "start_time": "2024-12-24T22:14:30.937Z"
   },
   {
    "duration": 297,
    "start_time": "2024-12-24T22:14:31.216Z"
   },
   {
    "duration": 4,
    "start_time": "2024-12-24T22:14:31.515Z"
   },
   {
    "duration": 15,
    "start_time": "2024-12-24T22:14:31.520Z"
   },
   {
    "duration": 44,
    "start_time": "2024-12-24T22:14:31.536Z"
   },
   {
    "duration": 247,
    "start_time": "2024-12-24T22:19:21.472Z"
   },
   {
    "duration": 27,
    "start_time": "2024-12-24T22:19:30.392Z"
   },
   {
    "duration": 22,
    "start_time": "2024-12-24T22:19:36.546Z"
   },
   {
    "duration": 26,
    "start_time": "2024-12-24T22:19:44.608Z"
   },
   {
    "duration": 45,
    "start_time": "2024-12-24T22:19:50.272Z"
   },
   {
    "duration": 4,
    "start_time": "2024-12-24T22:25:49.936Z"
   },
   {
    "duration": 18,
    "start_time": "2024-12-24T22:25:55.121Z"
   },
   {
    "duration": 3,
    "start_time": "2024-12-24T22:25:55.331Z"
   },
   {
    "duration": 20,
    "start_time": "2024-12-24T22:26:00.552Z"
   },
   {
    "duration": 7,
    "start_time": "2024-12-24T22:39:34.917Z"
   },
   {
    "duration": 1058,
    "start_time": "2024-12-24T23:03:35.130Z"
   },
   {
    "duration": 45,
    "start_time": "2024-12-24T23:03:36.190Z"
   },
   {
    "duration": 13,
    "start_time": "2024-12-24T23:03:36.237Z"
   },
   {
    "duration": 4,
    "start_time": "2024-12-24T23:03:36.252Z"
   },
   {
    "duration": 5,
    "start_time": "2024-12-24T23:03:36.258Z"
   },
   {
    "duration": 4,
    "start_time": "2024-12-24T23:03:36.264Z"
   },
   {
    "duration": 10,
    "start_time": "2024-12-24T23:03:36.270Z"
   },
   {
    "duration": 9,
    "start_time": "2024-12-24T23:03:36.282Z"
   },
   {
    "duration": 42,
    "start_time": "2024-12-24T23:03:36.293Z"
   },
   {
    "duration": 9,
    "start_time": "2024-12-24T23:03:36.337Z"
   },
   {
    "duration": 9,
    "start_time": "2024-12-24T23:03:36.347Z"
   },
   {
    "duration": 8,
    "start_time": "2024-12-24T23:03:36.358Z"
   },
   {
    "duration": 7,
    "start_time": "2024-12-24T23:03:36.368Z"
   },
   {
    "duration": 4,
    "start_time": "2024-12-24T23:03:36.380Z"
   },
   {
    "duration": 46,
    "start_time": "2024-12-24T23:03:36.387Z"
   },
   {
    "duration": 22,
    "start_time": "2024-12-24T23:03:36.435Z"
   },
   {
    "duration": 5,
    "start_time": "2024-12-24T23:03:36.460Z"
   },
   {
    "duration": 7,
    "start_time": "2024-12-24T23:03:36.467Z"
   },
   {
    "duration": 12,
    "start_time": "2024-12-24T23:03:36.476Z"
   },
   {
    "duration": 62,
    "start_time": "2024-12-24T23:03:36.489Z"
   },
   {
    "duration": 4,
    "start_time": "2024-12-24T23:03:36.553Z"
   },
   {
    "duration": 4,
    "start_time": "2024-12-24T23:03:36.559Z"
   },
   {
    "duration": 9,
    "start_time": "2024-12-24T23:03:36.564Z"
   },
   {
    "duration": 6,
    "start_time": "2024-12-24T23:03:36.575Z"
   },
   {
    "duration": 7,
    "start_time": "2024-12-24T23:03:36.582Z"
   },
   {
    "duration": 41,
    "start_time": "2024-12-24T23:03:36.590Z"
   },
   {
    "duration": 21,
    "start_time": "2024-12-24T23:03:36.633Z"
   },
   {
    "duration": 255,
    "start_time": "2024-12-24T23:03:36.656Z"
   },
   {
    "duration": 249,
    "start_time": "2024-12-24T23:03:36.914Z"
   },
   {
    "duration": 4,
    "start_time": "2024-12-24T23:03:37.166Z"
   },
   {
    "duration": 4,
    "start_time": "2024-12-24T23:03:37.172Z"
   },
   {
    "duration": 31,
    "start_time": "2024-12-24T23:03:37.177Z"
   },
   {
    "duration": 28,
    "start_time": "2024-12-24T23:03:37.210Z"
   },
   {
    "duration": 17,
    "start_time": "2024-12-24T23:03:37.239Z"
   },
   {
    "duration": 8,
    "start_time": "2024-12-24T23:03:37.257Z"
   },
   {
    "duration": 227,
    "start_time": "2024-12-24T23:18:21.433Z"
   },
   {
    "duration": 1851,
    "start_time": "2024-12-24T23:19:10.769Z"
   },
   {
    "duration": 1911,
    "start_time": "2024-12-24T23:19:26.839Z"
   },
   {
    "duration": 46046,
    "start_time": "2024-12-24T23:22:52.515Z"
   },
   {
    "duration": 788,
    "start_time": "2024-12-24T23:25:24.157Z"
   },
   {
    "duration": 49,
    "start_time": "2024-12-24T23:27:00.932Z"
   },
   {
    "duration": 3,
    "start_time": "2024-12-24T23:27:31.175Z"
   },
   {
    "duration": 42,
    "start_time": "2024-12-24T23:28:03.276Z"
   },
   {
    "duration": 46,
    "start_time": "2024-12-24T23:28:15.655Z"
   },
   {
    "duration": 1349,
    "start_time": "2024-12-24T23:29:03.012Z"
   },
   {
    "duration": 1349,
    "start_time": "2024-12-24T23:30:05.094Z"
   },
   {
    "duration": 1389,
    "start_time": "2024-12-24T23:30:22.763Z"
   },
   {
    "duration": 5,
    "start_time": "2024-12-24T23:33:55.455Z"
   },
   {
    "duration": 4,
    "start_time": "2024-12-24T23:35:38.710Z"
   },
   {
    "duration": 5,
    "start_time": "2024-12-24T23:36:12.057Z"
   },
   {
    "duration": 3,
    "start_time": "2024-12-24T23:38:02.495Z"
   },
   {
    "duration": 3,
    "start_time": "2024-12-24T23:38:04.089Z"
   },
   {
    "duration": 5,
    "start_time": "2024-12-24T23:46:53.614Z"
   },
   {
    "duration": 18,
    "start_time": "2024-12-24T23:46:58.786Z"
   },
   {
    "duration": 1062,
    "start_time": "2024-12-24T23:47:19.990Z"
   },
   {
    "duration": 37,
    "start_time": "2024-12-24T23:47:21.055Z"
   },
   {
    "duration": 12,
    "start_time": "2024-12-24T23:47:21.094Z"
   },
   {
    "duration": 4,
    "start_time": "2024-12-24T23:47:21.108Z"
   },
   {
    "duration": 18,
    "start_time": "2024-12-24T23:47:21.114Z"
   },
   {
    "duration": 4,
    "start_time": "2024-12-24T23:47:21.135Z"
   },
   {
    "duration": 11,
    "start_time": "2024-12-24T23:47:21.140Z"
   },
   {
    "duration": 9,
    "start_time": "2024-12-24T23:47:21.153Z"
   },
   {
    "duration": 9,
    "start_time": "2024-12-24T23:47:21.163Z"
   },
   {
    "duration": 8,
    "start_time": "2024-12-24T23:47:21.176Z"
   },
   {
    "duration": 9,
    "start_time": "2024-12-24T23:47:21.185Z"
   },
   {
    "duration": 44,
    "start_time": "2024-12-24T23:47:21.196Z"
   },
   {
    "duration": 11,
    "start_time": "2024-12-24T23:47:21.243Z"
   },
   {
    "duration": 5,
    "start_time": "2024-12-24T23:47:21.255Z"
   },
   {
    "duration": 10,
    "start_time": "2024-12-24T23:47:21.261Z"
   },
   {
    "duration": 21,
    "start_time": "2024-12-24T23:47:21.273Z"
   },
   {
    "duration": 38,
    "start_time": "2024-12-24T23:47:21.296Z"
   },
   {
    "duration": 8,
    "start_time": "2024-12-24T23:47:21.336Z"
   },
   {
    "duration": 12,
    "start_time": "2024-12-24T23:47:21.345Z"
   },
   {
    "duration": 33,
    "start_time": "2024-12-24T23:47:21.358Z"
   },
   {
    "duration": 6,
    "start_time": "2024-12-24T23:47:21.393Z"
   },
   {
    "duration": 32,
    "start_time": "2024-12-24T23:47:21.400Z"
   },
   {
    "duration": 7,
    "start_time": "2024-12-24T23:47:21.434Z"
   },
   {
    "duration": 8,
    "start_time": "2024-12-24T23:47:21.442Z"
   },
   {
    "duration": 6,
    "start_time": "2024-12-24T23:47:21.452Z"
   },
   {
    "duration": 11,
    "start_time": "2024-12-24T23:47:21.460Z"
   },
   {
    "duration": 19,
    "start_time": "2024-12-24T23:47:21.472Z"
   },
   {
    "duration": 264,
    "start_time": "2024-12-24T23:47:21.531Z"
   },
   {
    "duration": 221,
    "start_time": "2024-12-24T23:47:21.797Z"
   },
   {
    "duration": 11,
    "start_time": "2024-12-24T23:47:22.021Z"
   },
   {
    "duration": 4,
    "start_time": "2024-12-24T23:47:22.035Z"
   },
   {
    "duration": 30,
    "start_time": "2024-12-24T23:47:22.041Z"
   },
   {
    "duration": 7,
    "start_time": "2024-12-24T23:47:22.073Z"
   },
   {
    "duration": 16,
    "start_time": "2024-12-24T23:47:22.082Z"
   },
   {
    "duration": 33,
    "start_time": "2024-12-24T23:47:22.100Z"
   },
   {
    "duration": 6,
    "start_time": "2024-12-24T23:47:22.138Z"
   },
   {
    "duration": 3,
    "start_time": "2024-12-24T23:47:22.145Z"
   },
   {
    "duration": 19,
    "start_time": "2024-12-24T23:47:22.149Z"
   },
   {
    "duration": 9,
    "start_time": "2024-12-24T23:47:22.170Z"
   },
   {
    "duration": 2085,
    "start_time": "2024-12-24T23:47:22.180Z"
   },
   {
    "duration": 20,
    "start_time": "2024-12-25T00:16:18.043Z"
   },
   {
    "duration": 334,
    "start_time": "2024-12-25T00:19:35.031Z"
   },
   {
    "duration": 20,
    "start_time": "2024-12-25T00:21:12.599Z"
   },
   {
    "duration": 12,
    "start_time": "2024-12-25T00:22:57.788Z"
   },
   {
    "duration": 14,
    "start_time": "2024-12-25T00:23:04.334Z"
   },
   {
    "duration": 13,
    "start_time": "2024-12-25T00:23:13.066Z"
   },
   {
    "duration": 8,
    "start_time": "2024-12-25T18:51:55.103Z"
   },
   {
    "duration": 159,
    "start_time": "2024-12-25T18:52:11.084Z"
   },
   {
    "duration": 2690,
    "start_time": "2024-12-25T18:52:18.164Z"
   },
   {
    "duration": 63,
    "start_time": "2024-12-25T18:52:20.856Z"
   },
   {
    "duration": 14,
    "start_time": "2024-12-25T18:52:20.922Z"
   },
   {
    "duration": 4,
    "start_time": "2024-12-25T18:52:20.939Z"
   },
   {
    "duration": 6,
    "start_time": "2024-12-25T18:52:20.944Z"
   },
   {
    "duration": 4,
    "start_time": "2024-12-25T18:52:20.952Z"
   },
   {
    "duration": 10,
    "start_time": "2024-12-25T18:52:20.958Z"
   },
   {
    "duration": 38,
    "start_time": "2024-12-25T18:52:20.969Z"
   },
   {
    "duration": 9,
    "start_time": "2024-12-25T18:52:21.008Z"
   },
   {
    "duration": 7,
    "start_time": "2024-12-25T18:52:21.019Z"
   },
   {
    "duration": 9,
    "start_time": "2024-12-25T18:52:21.027Z"
   },
   {
    "duration": 9,
    "start_time": "2024-12-25T18:52:21.038Z"
   },
   {
    "duration": 7,
    "start_time": "2024-12-25T18:52:21.051Z"
   },
   {
    "duration": 4,
    "start_time": "2024-12-25T18:52:21.060Z"
   },
   {
    "duration": 9,
    "start_time": "2024-12-25T18:52:21.106Z"
   },
   {
    "duration": 21,
    "start_time": "2024-12-25T18:52:21.117Z"
   },
   {
    "duration": 7,
    "start_time": "2024-12-25T18:52:21.139Z"
   },
   {
    "duration": 7,
    "start_time": "2024-12-25T18:52:21.148Z"
   },
   {
    "duration": 10,
    "start_time": "2024-12-25T18:52:21.157Z"
   },
   {
    "duration": 77,
    "start_time": "2024-12-25T18:52:21.169Z"
   },
   {
    "duration": 4,
    "start_time": "2024-12-25T18:52:21.248Z"
   },
   {
    "duration": 4,
    "start_time": "2024-12-25T18:52:21.254Z"
   },
   {
    "duration": 7,
    "start_time": "2024-12-25T18:52:21.259Z"
   },
   {
    "duration": 7,
    "start_time": "2024-12-25T18:52:21.267Z"
   },
   {
    "duration": 34,
    "start_time": "2024-12-25T18:52:21.275Z"
   },
   {
    "duration": 58,
    "start_time": "2024-12-25T18:52:21.311Z"
   },
   {
    "duration": 35,
    "start_time": "2024-12-25T18:52:21.371Z"
   },
   {
    "duration": 268,
    "start_time": "2024-12-25T18:52:21.407Z"
   },
   {
    "duration": 235,
    "start_time": "2024-12-25T18:52:21.677Z"
   },
   {
    "duration": 3,
    "start_time": "2024-12-25T18:52:21.914Z"
   },
   {
    "duration": 4,
    "start_time": "2024-12-25T18:52:21.919Z"
   },
   {
    "duration": 28,
    "start_time": "2024-12-25T18:52:21.924Z"
   },
   {
    "duration": 8,
    "start_time": "2024-12-25T18:52:21.953Z"
   },
   {
    "duration": 43,
    "start_time": "2024-12-25T18:52:21.962Z"
   },
   {
    "duration": 4,
    "start_time": "2024-12-25T18:52:22.006Z"
   },
   {
    "duration": 4,
    "start_time": "2024-12-25T18:52:22.012Z"
   },
   {
    "duration": 2,
    "start_time": "2024-12-25T18:52:22.018Z"
   },
   {
    "duration": 18,
    "start_time": "2024-12-25T18:52:22.022Z"
   },
   {
    "duration": 166,
    "start_time": "2024-12-25T18:52:22.041Z"
   },
   {
    "duration": 0,
    "start_time": "2024-12-25T18:52:22.209Z"
   },
   {
    "duration": 0,
    "start_time": "2024-12-25T18:52:22.211Z"
   },
   {
    "duration": 0,
    "start_time": "2024-12-25T18:52:22.212Z"
   },
   {
    "duration": 5,
    "start_time": "2024-12-25T18:53:26.262Z"
   },
   {
    "duration": 436,
    "start_time": "2024-12-25T18:53:38.839Z"
   },
   {
    "duration": 18,
    "start_time": "2024-12-25T18:54:06.266Z"
   },
   {
    "duration": 17,
    "start_time": "2024-12-25T19:01:59.091Z"
   },
   {
    "duration": 182,
    "start_time": "2024-12-25T23:51:28.309Z"
   },
   {
    "duration": 3042,
    "start_time": "2024-12-25T23:51:35.450Z"
   },
   {
    "duration": 86,
    "start_time": "2024-12-25T23:51:38.494Z"
   },
   {
    "duration": 12,
    "start_time": "2024-12-25T23:51:38.582Z"
   },
   {
    "duration": 4,
    "start_time": "2024-12-25T23:51:38.595Z"
   },
   {
    "duration": 6,
    "start_time": "2024-12-25T23:51:38.602Z"
   },
   {
    "duration": 8,
    "start_time": "2024-12-25T23:51:38.610Z"
   },
   {
    "duration": 33,
    "start_time": "2024-12-25T23:51:38.619Z"
   },
   {
    "duration": 9,
    "start_time": "2024-12-25T23:51:38.655Z"
   },
   {
    "duration": 8,
    "start_time": "2024-12-25T23:51:38.666Z"
   },
   {
    "duration": 7,
    "start_time": "2024-12-25T23:51:38.675Z"
   },
   {
    "duration": 8,
    "start_time": "2024-12-25T23:51:38.684Z"
   },
   {
    "duration": 10,
    "start_time": "2024-12-25T23:51:38.693Z"
   },
   {
    "duration": 44,
    "start_time": "2024-12-25T23:51:38.704Z"
   },
   {
    "duration": 4,
    "start_time": "2024-12-25T23:51:38.752Z"
   },
   {
    "duration": 8,
    "start_time": "2024-12-25T23:51:38.758Z"
   },
   {
    "duration": 20,
    "start_time": "2024-12-25T23:51:38.768Z"
   },
   {
    "duration": 5,
    "start_time": "2024-12-25T23:51:38.790Z"
   },
   {
    "duration": 7,
    "start_time": "2024-12-25T23:51:38.797Z"
   },
   {
    "duration": 43,
    "start_time": "2024-12-25T23:51:38.806Z"
   },
   {
    "duration": 33,
    "start_time": "2024-12-25T23:51:38.851Z"
   },
   {
    "duration": 6,
    "start_time": "2024-12-25T23:51:38.887Z"
   },
   {
    "duration": 4,
    "start_time": "2024-12-25T23:51:38.894Z"
   },
   {
    "duration": 6,
    "start_time": "2024-12-25T23:51:38.899Z"
   },
   {
    "duration": 6,
    "start_time": "2024-12-25T23:51:38.907Z"
   },
   {
    "duration": 36,
    "start_time": "2024-12-25T23:51:38.915Z"
   },
   {
    "duration": 12,
    "start_time": "2024-12-25T23:51:38.956Z"
   },
   {
    "duration": 19,
    "start_time": "2024-12-25T23:51:38.969Z"
   },
   {
    "duration": 249,
    "start_time": "2024-12-25T23:51:38.990Z"
   },
   {
    "duration": 305,
    "start_time": "2024-12-25T23:51:39.252Z"
   },
   {
    "duration": 7,
    "start_time": "2024-12-25T23:51:39.559Z"
   },
   {
    "duration": 4,
    "start_time": "2024-12-25T23:51:39.570Z"
   },
   {
    "duration": 28,
    "start_time": "2024-12-25T23:51:39.576Z"
   },
   {
    "duration": 7,
    "start_time": "2024-12-25T23:51:39.606Z"
   },
   {
    "duration": 23,
    "start_time": "2024-12-25T23:51:39.636Z"
   },
   {
    "duration": 4,
    "start_time": "2024-12-25T23:51:39.661Z"
   },
   {
    "duration": 3,
    "start_time": "2024-12-25T23:51:39.667Z"
   },
   {
    "duration": 2,
    "start_time": "2024-12-25T23:51:39.672Z"
   },
   {
    "duration": 16,
    "start_time": "2024-12-25T23:51:39.676Z"
   },
   {
    "duration": 5,
    "start_time": "2024-12-25T23:51:39.694Z"
   },
   {
    "duration": 50,
    "start_time": "2024-12-25T23:51:39.701Z"
   },
   {
    "duration": 9,
    "start_time": "2024-12-25T23:51:39.756Z"
   },
   {
    "duration": 2853,
    "start_time": "2024-12-25T23:51:39.766Z"
   },
   {
    "duration": 20,
    "start_time": "2024-12-25T23:53:08.948Z"
   },
   {
    "duration": 26,
    "start_time": "2024-12-25T23:53:26.913Z"
   },
   {
    "duration": 20,
    "start_time": "2024-12-25T23:53:33.242Z"
   },
   {
    "duration": 4764,
    "start_time": "2024-12-25T23:53:51.397Z"
   },
   {
    "duration": 363,
    "start_time": "2024-12-25T23:56:02.447Z"
   },
   {
    "duration": 26,
    "start_time": "2024-12-25T23:56:43.898Z"
   },
   {
    "duration": 13,
    "start_time": "2024-12-25T23:56:45.147Z"
   },
   {
    "duration": 357,
    "start_time": "2024-12-25T23:56:46.475Z"
   },
   {
    "duration": 4,
    "start_time": "2024-12-25T23:57:02.842Z"
   },
   {
    "duration": 11,
    "start_time": "2024-12-25T23:57:49.050Z"
   },
   {
    "duration": 1400,
    "start_time": "2024-12-25T23:58:05.137Z"
   },
   {
    "duration": 46,
    "start_time": "2024-12-25T23:58:06.539Z"
   },
   {
    "duration": 17,
    "start_time": "2024-12-25T23:58:06.587Z"
   },
   {
    "duration": 4,
    "start_time": "2024-12-25T23:58:06.606Z"
   },
   {
    "duration": 6,
    "start_time": "2024-12-25T23:58:06.625Z"
   },
   {
    "duration": 7,
    "start_time": "2024-12-25T23:58:06.634Z"
   },
   {
    "duration": 12,
    "start_time": "2024-12-25T23:58:06.643Z"
   },
   {
    "duration": 11,
    "start_time": "2024-12-25T23:58:06.658Z"
   },
   {
    "duration": 11,
    "start_time": "2024-12-25T23:58:06.671Z"
   },
   {
    "duration": 40,
    "start_time": "2024-12-25T23:58:06.684Z"
   },
   {
    "duration": 10,
    "start_time": "2024-12-25T23:58:06.727Z"
   },
   {
    "duration": 11,
    "start_time": "2024-12-25T23:58:06.740Z"
   },
   {
    "duration": 9,
    "start_time": "2024-12-25T23:58:06.753Z"
   },
   {
    "duration": 5,
    "start_time": "2024-12-25T23:58:06.767Z"
   },
   {
    "duration": 11,
    "start_time": "2024-12-25T23:58:06.774Z"
   },
   {
    "duration": 25,
    "start_time": "2024-12-25T23:58:06.824Z"
   },
   {
    "duration": 7,
    "start_time": "2024-12-25T23:58:06.852Z"
   },
   {
    "duration": 10,
    "start_time": "2024-12-25T23:58:06.861Z"
   },
   {
    "duration": 14,
    "start_time": "2024-12-25T23:58:06.873Z"
   },
   {
    "duration": 58,
    "start_time": "2024-12-25T23:58:06.889Z"
   },
   {
    "duration": 5,
    "start_time": "2024-12-25T23:58:06.951Z"
   },
   {
    "duration": 5,
    "start_time": "2024-12-25T23:58:06.958Z"
   },
   {
    "duration": 8,
    "start_time": "2024-12-25T23:58:06.965Z"
   },
   {
    "duration": 7,
    "start_time": "2024-12-25T23:58:06.976Z"
   },
   {
    "duration": 7,
    "start_time": "2024-12-25T23:58:06.985Z"
   },
   {
    "duration": 13,
    "start_time": "2024-12-25T23:58:07.024Z"
   },
   {
    "duration": 21,
    "start_time": "2024-12-25T23:58:07.039Z"
   },
   {
    "duration": 278,
    "start_time": "2024-12-25T23:58:07.064Z"
   },
   {
    "duration": 256,
    "start_time": "2024-12-25T23:58:07.344Z"
   },
   {
    "duration": 5,
    "start_time": "2024-12-25T23:58:07.602Z"
   },
   {
    "duration": 9,
    "start_time": "2024-12-25T23:58:07.610Z"
   },
   {
    "duration": 49,
    "start_time": "2024-12-25T23:58:07.621Z"
   },
   {
    "duration": 11,
    "start_time": "2024-12-25T23:58:07.672Z"
   },
   {
    "duration": 25,
    "start_time": "2024-12-25T23:58:07.686Z"
   },
   {
    "duration": 14,
    "start_time": "2024-12-25T23:58:07.725Z"
   },
   {
    "duration": 10,
    "start_time": "2024-12-25T23:58:07.742Z"
   },
   {
    "duration": 3,
    "start_time": "2024-12-25T23:58:07.755Z"
   },
   {
    "duration": 30,
    "start_time": "2024-12-25T23:58:07.760Z"
   },
   {
    "duration": 11,
    "start_time": "2024-12-25T23:58:07.795Z"
   },
   {
    "duration": 28,
    "start_time": "2024-12-25T23:58:07.825Z"
   },
   {
    "duration": 12,
    "start_time": "2024-12-25T23:58:07.860Z"
   },
   {
    "duration": 5,
    "start_time": "2024-12-25T23:58:07.875Z"
   },
   {
    "duration": 406,
    "start_time": "2024-12-25T23:58:07.882Z"
   },
   {
    "duration": 592,
    "start_time": "2024-12-26T00:08:33.191Z"
   },
   {
    "duration": 1138,
    "start_time": "2024-12-26T00:14:15.722Z"
   },
   {
    "duration": 40,
    "start_time": "2024-12-26T00:14:25.160Z"
   },
   {
    "duration": 38,
    "start_time": "2024-12-26T00:14:40.272Z"
   },
   {
    "duration": 47,
    "start_time": "2024-12-26T00:14:51.221Z"
   },
   {
    "duration": 14,
    "start_time": "2024-12-26T00:15:57.445Z"
   },
   {
    "duration": 28,
    "start_time": "2024-12-26T00:21:13.948Z"
   },
   {
    "duration": 339,
    "start_time": "2024-12-26T00:22:02.469Z"
   },
   {
    "duration": 52,
    "start_time": "2024-12-26T00:25:25.711Z"
   },
   {
    "duration": 35,
    "start_time": "2024-12-26T00:26:55.796Z"
   },
   {
    "duration": 389,
    "start_time": "2024-12-26T00:27:06.111Z"
   },
   {
    "duration": 369,
    "start_time": "2024-12-26T00:27:13.849Z"
   },
   {
    "duration": 1120,
    "start_time": "2024-12-26T00:28:57.886Z"
   },
   {
    "duration": 68,
    "start_time": "2024-12-26T00:28:59.008Z"
   },
   {
    "duration": 13,
    "start_time": "2024-12-26T00:28:59.078Z"
   },
   {
    "duration": 4,
    "start_time": "2024-12-26T00:28:59.094Z"
   },
   {
    "duration": 5,
    "start_time": "2024-12-26T00:28:59.100Z"
   },
   {
    "duration": 4,
    "start_time": "2024-12-26T00:28:59.106Z"
   },
   {
    "duration": 10,
    "start_time": "2024-12-26T00:28:59.112Z"
   },
   {
    "duration": 36,
    "start_time": "2024-12-26T00:28:59.128Z"
   },
   {
    "duration": 9,
    "start_time": "2024-12-26T00:28:59.165Z"
   },
   {
    "duration": 11,
    "start_time": "2024-12-26T00:28:59.178Z"
   },
   {
    "duration": 11,
    "start_time": "2024-12-26T00:28:59.190Z"
   },
   {
    "duration": 20,
    "start_time": "2024-12-26T00:28:59.203Z"
   },
   {
    "duration": 16,
    "start_time": "2024-12-26T00:28:59.224Z"
   },
   {
    "duration": 6,
    "start_time": "2024-12-26T00:28:59.245Z"
   },
   {
    "duration": 11,
    "start_time": "2024-12-26T00:28:59.255Z"
   },
   {
    "duration": 23,
    "start_time": "2024-12-26T00:28:59.271Z"
   },
   {
    "duration": 13,
    "start_time": "2024-12-26T00:28:59.296Z"
   },
   {
    "duration": 10,
    "start_time": "2024-12-26T00:28:59.312Z"
   },
   {
    "duration": 12,
    "start_time": "2024-12-26T00:28:59.324Z"
   },
   {
    "duration": 36,
    "start_time": "2024-12-26T00:28:59.337Z"
   },
   {
    "duration": 4,
    "start_time": "2024-12-26T00:28:59.375Z"
   },
   {
    "duration": 4,
    "start_time": "2024-12-26T00:28:59.381Z"
   },
   {
    "duration": 6,
    "start_time": "2024-12-26T00:28:59.387Z"
   },
   {
    "duration": 44,
    "start_time": "2024-12-26T00:28:59.395Z"
   },
   {
    "duration": 15,
    "start_time": "2024-12-26T00:28:59.440Z"
   },
   {
    "duration": 14,
    "start_time": "2024-12-26T00:28:59.456Z"
   },
   {
    "duration": 24,
    "start_time": "2024-12-26T00:28:59.472Z"
   },
   {
    "duration": 253,
    "start_time": "2024-12-26T00:28:59.500Z"
   },
   {
    "duration": 257,
    "start_time": "2024-12-26T00:28:59.755Z"
   },
   {
    "duration": 4,
    "start_time": "2024-12-26T00:29:00.015Z"
   },
   {
    "duration": 5,
    "start_time": "2024-12-26T00:29:00.024Z"
   },
   {
    "duration": 36,
    "start_time": "2024-12-26T00:29:00.036Z"
   },
   {
    "duration": 9,
    "start_time": "2024-12-26T00:29:00.074Z"
   },
   {
    "duration": 17,
    "start_time": "2024-12-26T00:29:00.084Z"
   },
   {
    "duration": 23,
    "start_time": "2024-12-26T00:29:00.103Z"
   },
   {
    "duration": 7,
    "start_time": "2024-12-26T00:29:00.127Z"
   },
   {
    "duration": 12,
    "start_time": "2024-12-26T00:29:00.135Z"
   },
   {
    "duration": 36,
    "start_time": "2024-12-26T00:29:00.149Z"
   },
   {
    "duration": 5,
    "start_time": "2024-12-26T00:29:00.187Z"
   },
   {
    "duration": 9,
    "start_time": "2024-12-26T00:29:00.194Z"
   },
   {
    "duration": 3,
    "start_time": "2024-12-26T00:29:00.205Z"
   },
   {
    "duration": 650,
    "start_time": "2024-12-26T00:29:00.210Z"
   },
   {
    "duration": 386,
    "start_time": "2024-12-26T00:29:00.861Z"
   },
   {
    "duration": 26,
    "start_time": "2024-12-26T00:29:01.249Z"
   },
   {
    "duration": 8,
    "start_time": "2024-12-26T00:29:01.277Z"
   },
   {
    "duration": 1076,
    "start_time": "2024-12-26T00:29:49.012Z"
   },
   {
    "duration": 32,
    "start_time": "2024-12-26T00:29:50.090Z"
   },
   {
    "duration": 31,
    "start_time": "2024-12-26T00:29:50.124Z"
   },
   {
    "duration": 4,
    "start_time": "2024-12-26T00:29:50.157Z"
   },
   {
    "duration": 5,
    "start_time": "2024-12-26T00:29:50.164Z"
   },
   {
    "duration": 4,
    "start_time": "2024-12-26T00:29:50.170Z"
   },
   {
    "duration": 10,
    "start_time": "2024-12-26T00:29:50.175Z"
   },
   {
    "duration": 9,
    "start_time": "2024-12-26T00:29:50.186Z"
   },
   {
    "duration": 8,
    "start_time": "2024-12-26T00:29:50.196Z"
   },
   {
    "duration": 29,
    "start_time": "2024-12-26T00:29:50.206Z"
   },
   {
    "duration": 18,
    "start_time": "2024-12-26T00:29:50.236Z"
   },
   {
    "duration": 8,
    "start_time": "2024-12-26T00:29:50.256Z"
   },
   {
    "duration": 7,
    "start_time": "2024-12-26T00:29:50.266Z"
   },
   {
    "duration": 4,
    "start_time": "2024-12-26T00:29:50.277Z"
   },
   {
    "duration": 8,
    "start_time": "2024-12-26T00:29:50.282Z"
   },
   {
    "duration": 66,
    "start_time": "2024-12-26T00:29:50.292Z"
   },
   {
    "duration": 6,
    "start_time": "2024-12-26T00:29:50.360Z"
   },
   {
    "duration": 9,
    "start_time": "2024-12-26T00:29:50.368Z"
   },
   {
    "duration": 11,
    "start_time": "2024-12-26T00:29:50.379Z"
   },
   {
    "duration": 62,
    "start_time": "2024-12-26T00:29:50.392Z"
   },
   {
    "duration": 4,
    "start_time": "2024-12-26T00:29:50.456Z"
   },
   {
    "duration": 4,
    "start_time": "2024-12-26T00:29:50.462Z"
   },
   {
    "duration": 8,
    "start_time": "2024-12-26T00:29:50.467Z"
   },
   {
    "duration": 6,
    "start_time": "2024-12-26T00:29:50.476Z"
   },
   {
    "duration": 6,
    "start_time": "2024-12-26T00:29:50.484Z"
   },
   {
    "duration": 10,
    "start_time": "2024-12-26T00:29:50.493Z"
   },
   {
    "duration": 54,
    "start_time": "2024-12-26T00:29:50.504Z"
   },
   {
    "duration": 225,
    "start_time": "2024-12-26T00:29:50.560Z"
   },
   {
    "duration": 225,
    "start_time": "2024-12-26T00:29:50.787Z"
   },
   {
    "duration": 13,
    "start_time": "2024-12-26T00:29:51.014Z"
   },
   {
    "duration": 8,
    "start_time": "2024-12-26T00:29:51.031Z"
   },
   {
    "duration": 30,
    "start_time": "2024-12-26T00:29:51.044Z"
   },
   {
    "duration": 8,
    "start_time": "2024-12-26T00:29:51.075Z"
   },
   {
    "duration": 15,
    "start_time": "2024-12-26T00:29:51.085Z"
   },
   {
    "duration": 25,
    "start_time": "2024-12-26T00:29:51.102Z"
   },
   {
    "duration": 4,
    "start_time": "2024-12-26T00:29:51.128Z"
   },
   {
    "duration": 20,
    "start_time": "2024-12-26T00:29:51.133Z"
   },
   {
    "duration": 20,
    "start_time": "2024-12-26T00:29:51.155Z"
   },
   {
    "duration": 5,
    "start_time": "2024-12-26T00:29:51.177Z"
   },
   {
    "duration": 11,
    "start_time": "2024-12-26T00:29:51.185Z"
   },
   {
    "duration": 3,
    "start_time": "2024-12-26T00:29:51.201Z"
   },
   {
    "duration": 582,
    "start_time": "2024-12-26T00:29:51.206Z"
   },
   {
    "duration": 20,
    "start_time": "2024-12-26T00:29:51.790Z"
   },
   {
    "duration": 340,
    "start_time": "2024-12-26T00:29:51.823Z"
   },
   {
    "duration": 8,
    "start_time": "2024-12-26T00:29:52.165Z"
   },
   {
    "duration": 137,
    "start_time": "2024-12-26T00:38:20.946Z"
   },
   {
    "duration": 5,
    "start_time": "2024-12-26T00:38:46.431Z"
   },
   {
    "duration": 351,
    "start_time": "2024-12-26T00:39:00.247Z"
   },
   {
    "duration": 585,
    "start_time": "2024-12-26T00:39:16.848Z"
   },
   {
    "duration": 21,
    "start_time": "2024-12-26T00:44:15.535Z"
   },
   {
    "duration": 8,
    "start_time": "2024-12-26T00:44:35.317Z"
   },
   {
    "duration": 573,
    "start_time": "2024-12-26T00:46:58.757Z"
   },
   {
    "duration": 119,
    "start_time": "2024-12-26T00:46:59.827Z"
   },
   {
    "duration": 977,
    "start_time": "2024-12-26T00:47:05.300Z"
   },
   {
    "duration": 41,
    "start_time": "2024-12-26T00:47:06.279Z"
   },
   {
    "duration": 11,
    "start_time": "2024-12-26T00:47:06.321Z"
   },
   {
    "duration": 4,
    "start_time": "2024-12-26T00:47:06.333Z"
   },
   {
    "duration": 6,
    "start_time": "2024-12-26T00:47:06.340Z"
   },
   {
    "duration": 4,
    "start_time": "2024-12-26T00:47:06.347Z"
   },
   {
    "duration": 10,
    "start_time": "2024-12-26T00:47:06.353Z"
   },
   {
    "duration": 9,
    "start_time": "2024-12-26T00:47:06.365Z"
   },
   {
    "duration": 9,
    "start_time": "2024-12-26T00:47:06.375Z"
   },
   {
    "duration": 8,
    "start_time": "2024-12-26T00:47:06.425Z"
   },
   {
    "duration": 10,
    "start_time": "2024-12-26T00:47:06.435Z"
   },
   {
    "duration": 9,
    "start_time": "2024-12-26T00:47:06.446Z"
   },
   {
    "duration": 9,
    "start_time": "2024-12-26T00:47:06.456Z"
   },
   {
    "duration": 5,
    "start_time": "2024-12-26T00:47:06.469Z"
   },
   {
    "duration": 9,
    "start_time": "2024-12-26T00:47:06.476Z"
   },
   {
    "duration": 21,
    "start_time": "2024-12-26T00:47:06.524Z"
   },
   {
    "duration": 5,
    "start_time": "2024-12-26T00:47:06.547Z"
   },
   {
    "duration": 8,
    "start_time": "2024-12-26T00:47:06.554Z"
   },
   {
    "duration": 12,
    "start_time": "2024-12-26T00:47:06.563Z"
   },
   {
    "duration": 63,
    "start_time": "2024-12-26T00:47:06.576Z"
   },
   {
    "duration": 4,
    "start_time": "2024-12-26T00:47:06.641Z"
   },
   {
    "duration": 4,
    "start_time": "2024-12-26T00:47:06.646Z"
   },
   {
    "duration": 7,
    "start_time": "2024-12-26T00:47:06.651Z"
   },
   {
    "duration": 6,
    "start_time": "2024-12-26T00:47:06.659Z"
   },
   {
    "duration": 6,
    "start_time": "2024-12-26T00:47:06.667Z"
   },
   {
    "duration": 9,
    "start_time": "2024-12-26T00:47:06.675Z"
   },
   {
    "duration": 55,
    "start_time": "2024-12-26T00:47:06.686Z"
   },
   {
    "duration": 259,
    "start_time": "2024-12-26T00:47:06.742Z"
   },
   {
    "duration": 239,
    "start_time": "2024-12-26T00:47:07.003Z"
   },
   {
    "duration": 4,
    "start_time": "2024-12-26T00:47:07.245Z"
   },
   {
    "duration": 4,
    "start_time": "2024-12-26T00:47:07.251Z"
   },
   {
    "duration": 29,
    "start_time": "2024-12-26T00:47:07.257Z"
   },
   {
    "duration": 8,
    "start_time": "2024-12-26T00:47:07.287Z"
   },
   {
    "duration": 38,
    "start_time": "2024-12-26T00:47:07.297Z"
   },
   {
    "duration": 4,
    "start_time": "2024-12-26T00:47:07.337Z"
   },
   {
    "duration": 4,
    "start_time": "2024-12-26T00:47:07.342Z"
   },
   {
    "duration": 3,
    "start_time": "2024-12-26T00:47:07.347Z"
   },
   {
    "duration": 16,
    "start_time": "2024-12-26T00:47:07.352Z"
   },
   {
    "duration": 4,
    "start_time": "2024-12-26T00:47:07.370Z"
   },
   {
    "duration": 8,
    "start_time": "2024-12-26T00:47:07.376Z"
   },
   {
    "duration": 4,
    "start_time": "2024-12-26T00:47:07.425Z"
   },
   {
    "duration": 601,
    "start_time": "2024-12-26T00:47:07.431Z"
   },
   {
    "duration": 20,
    "start_time": "2024-12-26T00:47:08.035Z"
   },
   {
    "duration": 351,
    "start_time": "2024-12-26T00:47:08.057Z"
   },
   {
    "duration": 14,
    "start_time": "2024-12-26T00:47:08.409Z"
   },
   {
    "duration": 359,
    "start_time": "2024-12-26T00:47:08.425Z"
   },
   {
    "duration": 579,
    "start_time": "2024-12-26T00:47:08.786Z"
   },
   {
    "duration": 13,
    "start_time": "2024-12-26T00:47:09.367Z"
   },
   {
    "duration": 7,
    "start_time": "2024-12-26T00:47:09.381Z"
   },
   {
    "duration": 341,
    "start_time": "2024-12-26T00:50:04.053Z"
   },
   {
    "duration": 286,
    "start_time": "2024-12-26T00:50:18.533Z"
   },
   {
    "duration": 1160,
    "start_time": "2024-12-26T00:53:37.752Z"
   },
   {
    "duration": 1161,
    "start_time": "2024-12-26T00:55:02.281Z"
   },
   {
    "duration": 36,
    "start_time": "2024-12-26T00:55:03.444Z"
   },
   {
    "duration": 14,
    "start_time": "2024-12-26T00:55:03.482Z"
   },
   {
    "duration": 7,
    "start_time": "2024-12-26T00:55:03.499Z"
   },
   {
    "duration": 19,
    "start_time": "2024-12-26T00:55:03.508Z"
   },
   {
    "duration": 6,
    "start_time": "2024-12-26T00:55:03.529Z"
   },
   {
    "duration": 12,
    "start_time": "2024-12-26T00:55:03.537Z"
   },
   {
    "duration": 12,
    "start_time": "2024-12-26T00:55:03.551Z"
   },
   {
    "duration": 12,
    "start_time": "2024-12-26T00:55:03.564Z"
   },
   {
    "duration": 45,
    "start_time": "2024-12-26T00:55:03.579Z"
   },
   {
    "duration": 11,
    "start_time": "2024-12-26T00:55:03.627Z"
   },
   {
    "duration": 11,
    "start_time": "2024-12-26T00:55:03.640Z"
   },
   {
    "duration": 9,
    "start_time": "2024-12-26T00:55:03.653Z"
   },
   {
    "duration": 4,
    "start_time": "2024-12-26T00:55:03.665Z"
   },
   {
    "duration": 11,
    "start_time": "2024-12-26T00:55:03.671Z"
   },
   {
    "duration": 66,
    "start_time": "2024-12-26T00:55:03.684Z"
   },
   {
    "duration": 7,
    "start_time": "2024-12-26T00:55:03.752Z"
   },
   {
    "duration": 8,
    "start_time": "2024-12-26T00:55:03.761Z"
   },
   {
    "duration": 15,
    "start_time": "2024-12-26T00:55:03.772Z"
   },
   {
    "duration": 63,
    "start_time": "2024-12-26T00:55:03.789Z"
   },
   {
    "duration": 7,
    "start_time": "2024-12-26T00:55:03.858Z"
   },
   {
    "duration": 7,
    "start_time": "2024-12-26T00:55:03.867Z"
   },
   {
    "duration": 8,
    "start_time": "2024-12-26T00:55:03.879Z"
   },
   {
    "duration": 8,
    "start_time": "2024-12-26T00:55:03.889Z"
   },
   {
    "duration": 26,
    "start_time": "2024-12-26T00:55:03.899Z"
   },
   {
    "duration": 13,
    "start_time": "2024-12-26T00:55:03.927Z"
   },
   {
    "duration": 27,
    "start_time": "2024-12-26T00:55:03.942Z"
   },
   {
    "duration": 227,
    "start_time": "2024-12-26T00:55:03.975Z"
   },
   {
    "duration": 257,
    "start_time": "2024-12-26T00:55:04.204Z"
   },
   {
    "duration": 5,
    "start_time": "2024-12-26T00:55:04.463Z"
   },
   {
    "duration": 4,
    "start_time": "2024-12-26T00:55:04.470Z"
   },
   {
    "duration": 50,
    "start_time": "2024-12-26T00:55:04.476Z"
   },
   {
    "duration": 8,
    "start_time": "2024-12-26T00:55:04.528Z"
   },
   {
    "duration": 20,
    "start_time": "2024-12-26T00:55:04.538Z"
   },
   {
    "duration": 7,
    "start_time": "2024-12-26T00:55:04.561Z"
   },
   {
    "duration": 5,
    "start_time": "2024-12-26T00:55:04.569Z"
   },
   {
    "duration": 3,
    "start_time": "2024-12-26T00:55:04.576Z"
   },
   {
    "duration": 57,
    "start_time": "2024-12-26T00:55:04.581Z"
   },
   {
    "duration": 5,
    "start_time": "2024-12-26T00:55:04.641Z"
   },
   {
    "duration": 10,
    "start_time": "2024-12-26T00:55:04.648Z"
   },
   {
    "duration": 5,
    "start_time": "2024-12-26T00:55:04.659Z"
   },
   {
    "duration": 628,
    "start_time": "2024-12-26T00:55:04.666Z"
   },
   {
    "duration": 38,
    "start_time": "2024-12-26T00:55:05.296Z"
   },
   {
    "duration": 374,
    "start_time": "2024-12-26T00:55:05.336Z"
   },
   {
    "duration": 999,
    "start_time": "2024-12-26T00:55:05.713Z"
   },
   {
    "duration": 13,
    "start_time": "2024-12-26T00:55:06.713Z"
   },
   {
    "duration": 399,
    "start_time": "2024-12-26T00:55:06.728Z"
   },
   {
    "duration": 738,
    "start_time": "2024-12-26T00:55:07.129Z"
   },
   {
    "duration": 14,
    "start_time": "2024-12-26T00:55:07.869Z"
   },
   {
    "duration": 10,
    "start_time": "2024-12-26T00:55:07.885Z"
   },
   {
    "duration": 1248,
    "start_time": "2024-12-26T01:26:23.644Z"
   },
   {
    "duration": 1182,
    "start_time": "2024-12-26T01:26:35.361Z"
   },
   {
    "duration": 61,
    "start_time": "2024-12-26T01:26:36.545Z"
   },
   {
    "duration": 11,
    "start_time": "2024-12-26T01:26:36.607Z"
   },
   {
    "duration": 5,
    "start_time": "2024-12-26T01:26:36.619Z"
   },
   {
    "duration": 14,
    "start_time": "2024-12-26T01:26:36.626Z"
   },
   {
    "duration": 13,
    "start_time": "2024-12-26T01:26:36.642Z"
   },
   {
    "duration": 23,
    "start_time": "2024-12-26T01:26:36.656Z"
   },
   {
    "duration": 9,
    "start_time": "2024-12-26T01:26:36.683Z"
   },
   {
    "duration": 9,
    "start_time": "2024-12-26T01:26:36.693Z"
   },
   {
    "duration": 7,
    "start_time": "2024-12-26T01:26:36.703Z"
   },
   {
    "duration": 9,
    "start_time": "2024-12-26T01:26:36.713Z"
   },
   {
    "duration": 16,
    "start_time": "2024-12-26T01:26:36.727Z"
   },
   {
    "duration": 11,
    "start_time": "2024-12-26T01:26:36.744Z"
   },
   {
    "duration": 9,
    "start_time": "2024-12-26T01:26:36.758Z"
   },
   {
    "duration": 18,
    "start_time": "2024-12-26T01:26:36.768Z"
   },
   {
    "duration": 20,
    "start_time": "2024-12-26T01:26:36.788Z"
   },
   {
    "duration": 5,
    "start_time": "2024-12-26T01:26:36.810Z"
   },
   {
    "duration": 25,
    "start_time": "2024-12-26T01:26:36.817Z"
   },
   {
    "duration": 26,
    "start_time": "2024-12-26T01:26:36.852Z"
   },
   {
    "duration": 32,
    "start_time": "2024-12-26T01:26:36.884Z"
   },
   {
    "duration": 4,
    "start_time": "2024-12-26T01:26:36.918Z"
   },
   {
    "duration": 12,
    "start_time": "2024-12-26T01:26:36.924Z"
   },
   {
    "duration": 17,
    "start_time": "2024-12-26T01:26:36.938Z"
   },
   {
    "duration": 12,
    "start_time": "2024-12-26T01:26:36.959Z"
   },
   {
    "duration": 11,
    "start_time": "2024-12-26T01:26:36.974Z"
   },
   {
    "duration": 10,
    "start_time": "2024-12-26T01:26:36.988Z"
   },
   {
    "duration": 19,
    "start_time": "2024-12-26T01:26:37.000Z"
   },
   {
    "duration": 259,
    "start_time": "2024-12-26T01:26:37.020Z"
   },
   {
    "duration": 270,
    "start_time": "2024-12-26T01:26:37.281Z"
   },
   {
    "duration": 7,
    "start_time": "2024-12-26T01:26:37.552Z"
   },
   {
    "duration": 12,
    "start_time": "2024-12-26T01:26:37.560Z"
   },
   {
    "duration": 43,
    "start_time": "2024-12-26T01:26:37.574Z"
   },
   {
    "duration": 23,
    "start_time": "2024-12-26T01:26:37.620Z"
   },
   {
    "duration": 27,
    "start_time": "2024-12-26T01:26:37.652Z"
   },
   {
    "duration": 5,
    "start_time": "2024-12-26T01:26:37.680Z"
   },
   {
    "duration": 4,
    "start_time": "2024-12-26T01:26:37.687Z"
   },
   {
    "duration": 2,
    "start_time": "2024-12-26T01:26:37.693Z"
   },
   {
    "duration": 17,
    "start_time": "2024-12-26T01:26:37.697Z"
   },
   {
    "duration": 5,
    "start_time": "2024-12-26T01:26:37.715Z"
   },
   {
    "duration": 16,
    "start_time": "2024-12-26T01:26:37.722Z"
   },
   {
    "duration": 12,
    "start_time": "2024-12-26T01:26:37.743Z"
   },
   {
    "duration": 659,
    "start_time": "2024-12-26T01:26:37.757Z"
   },
   {
    "duration": 34,
    "start_time": "2024-12-26T01:26:38.418Z"
   },
   {
    "duration": 365,
    "start_time": "2024-12-26T01:26:38.454Z"
   },
   {
    "duration": 867,
    "start_time": "2024-12-26T01:26:38.832Z"
   },
   {
    "duration": 854,
    "start_time": "2024-12-26T01:26:39.701Z"
   },
   {
    "duration": 12,
    "start_time": "2024-12-26T01:26:40.559Z"
   },
   {
    "duration": 369,
    "start_time": "2024-12-26T01:26:40.575Z"
   },
   {
    "duration": 640,
    "start_time": "2024-12-26T01:26:40.946Z"
   },
   {
    "duration": 12,
    "start_time": "2024-12-26T01:26:41.589Z"
   },
   {
    "duration": 8,
    "start_time": "2024-12-26T01:26:41.602Z"
   },
   {
    "duration": 234,
    "start_time": "2024-12-26T02:14:41.722Z"
   },
   {
    "duration": 20139,
    "start_time": "2024-12-26T02:15:37.409Z"
   },
   {
    "duration": 18,
    "start_time": "2024-12-26T02:15:57.551Z"
   },
   {
    "duration": 1467,
    "start_time": "2024-12-26T02:16:06.999Z"
   },
   {
    "duration": 1195,
    "start_time": "2024-12-26T02:16:08.469Z"
   },
   {
    "duration": 0,
    "start_time": "2024-12-26T02:16:09.667Z"
   },
   {
    "duration": 0,
    "start_time": "2024-12-26T02:16:09.668Z"
   },
   {
    "duration": 0,
    "start_time": "2024-12-26T02:16:09.669Z"
   },
   {
    "duration": 0,
    "start_time": "2024-12-26T02:16:09.671Z"
   },
   {
    "duration": 0,
    "start_time": "2024-12-26T02:16:09.672Z"
   },
   {
    "duration": 0,
    "start_time": "2024-12-26T02:16:09.673Z"
   },
   {
    "duration": 0,
    "start_time": "2024-12-26T02:16:09.674Z"
   },
   {
    "duration": 0,
    "start_time": "2024-12-26T02:16:09.675Z"
   },
   {
    "duration": 0,
    "start_time": "2024-12-26T02:16:09.676Z"
   },
   {
    "duration": 0,
    "start_time": "2024-12-26T02:16:09.677Z"
   },
   {
    "duration": 0,
    "start_time": "2024-12-26T02:16:09.678Z"
   },
   {
    "duration": 0,
    "start_time": "2024-12-26T02:16:09.679Z"
   },
   {
    "duration": 0,
    "start_time": "2024-12-26T02:16:09.680Z"
   },
   {
    "duration": 0,
    "start_time": "2024-12-26T02:16:09.681Z"
   },
   {
    "duration": 0,
    "start_time": "2024-12-26T02:16:09.682Z"
   },
   {
    "duration": 0,
    "start_time": "2024-12-26T02:16:09.683Z"
   },
   {
    "duration": 0,
    "start_time": "2024-12-26T02:16:09.684Z"
   },
   {
    "duration": 0,
    "start_time": "2024-12-26T02:16:09.685Z"
   },
   {
    "duration": 0,
    "start_time": "2024-12-26T02:16:09.685Z"
   },
   {
    "duration": 0,
    "start_time": "2024-12-26T02:16:09.687Z"
   },
   {
    "duration": 0,
    "start_time": "2024-12-26T02:16:09.688Z"
   },
   {
    "duration": 0,
    "start_time": "2024-12-26T02:16:09.689Z"
   },
   {
    "duration": 0,
    "start_time": "2024-12-26T02:16:09.690Z"
   },
   {
    "duration": 0,
    "start_time": "2024-12-26T02:16:09.724Z"
   },
   {
    "duration": 0,
    "start_time": "2024-12-26T02:16:09.725Z"
   },
   {
    "duration": 0,
    "start_time": "2024-12-26T02:16:09.726Z"
   },
   {
    "duration": 0,
    "start_time": "2024-12-26T02:16:09.726Z"
   },
   {
    "duration": 0,
    "start_time": "2024-12-26T02:16:09.728Z"
   },
   {
    "duration": 0,
    "start_time": "2024-12-26T02:16:09.729Z"
   },
   {
    "duration": 0,
    "start_time": "2024-12-26T02:16:09.731Z"
   },
   {
    "duration": 0,
    "start_time": "2024-12-26T02:16:09.732Z"
   },
   {
    "duration": 0,
    "start_time": "2024-12-26T02:16:09.736Z"
   },
   {
    "duration": 0,
    "start_time": "2024-12-26T02:16:09.737Z"
   },
   {
    "duration": 0,
    "start_time": "2024-12-26T02:16:09.738Z"
   },
   {
    "duration": 0,
    "start_time": "2024-12-26T02:16:09.739Z"
   },
   {
    "duration": 0,
    "start_time": "2024-12-26T02:16:09.740Z"
   },
   {
    "duration": 0,
    "start_time": "2024-12-26T02:16:09.741Z"
   },
   {
    "duration": 0,
    "start_time": "2024-12-26T02:16:09.742Z"
   },
   {
    "duration": 0,
    "start_time": "2024-12-26T02:16:09.743Z"
   },
   {
    "duration": 0,
    "start_time": "2024-12-26T02:16:09.744Z"
   },
   {
    "duration": 0,
    "start_time": "2024-12-26T02:16:09.746Z"
   },
   {
    "duration": 0,
    "start_time": "2024-12-26T02:16:09.746Z"
   },
   {
    "duration": 0,
    "start_time": "2024-12-26T02:16:09.747Z"
   },
   {
    "duration": 0,
    "start_time": "2024-12-26T02:16:09.748Z"
   },
   {
    "duration": 0,
    "start_time": "2024-12-26T02:16:09.749Z"
   },
   {
    "duration": 0,
    "start_time": "2024-12-26T02:16:09.751Z"
   },
   {
    "duration": 0,
    "start_time": "2024-12-26T02:16:09.752Z"
   },
   {
    "duration": 0,
    "start_time": "2024-12-26T02:16:09.756Z"
   },
   {
    "duration": 0,
    "start_time": "2024-12-26T02:16:09.757Z"
   },
   {
    "duration": 1,
    "start_time": "2024-12-26T02:16:09.758Z"
   },
   {
    "duration": 3,
    "start_time": "2024-12-26T02:17:43.398Z"
   },
   {
    "duration": 14,
    "start_time": "2024-12-26T02:18:43.451Z"
   },
   {
    "duration": 14,
    "start_time": "2024-12-26T02:19:22.884Z"
   },
   {
    "duration": 2026,
    "start_time": "2024-12-26T02:20:00.263Z"
   },
   {
    "duration": 1912,
    "start_time": "2024-12-26T02:20:25.948Z"
   },
   {
    "duration": 1587,
    "start_time": "2024-12-26T02:20:27.863Z"
   },
   {
    "duration": 0,
    "start_time": "2024-12-26T02:20:29.454Z"
   },
   {
    "duration": 0,
    "start_time": "2024-12-26T02:20:29.455Z"
   },
   {
    "duration": 0,
    "start_time": "2024-12-26T02:20:29.457Z"
   },
   {
    "duration": 0,
    "start_time": "2024-12-26T02:20:29.459Z"
   },
   {
    "duration": 0,
    "start_time": "2024-12-26T02:20:29.460Z"
   },
   {
    "duration": 0,
    "start_time": "2024-12-26T02:20:29.461Z"
   },
   {
    "duration": 0,
    "start_time": "2024-12-26T02:20:29.463Z"
   },
   {
    "duration": 0,
    "start_time": "2024-12-26T02:20:29.465Z"
   },
   {
    "duration": 0,
    "start_time": "2024-12-26T02:20:29.466Z"
   },
   {
    "duration": 0,
    "start_time": "2024-12-26T02:20:29.467Z"
   },
   {
    "duration": 0,
    "start_time": "2024-12-26T02:20:29.468Z"
   },
   {
    "duration": 0,
    "start_time": "2024-12-26T02:20:29.469Z"
   },
   {
    "duration": 0,
    "start_time": "2024-12-26T02:20:29.470Z"
   },
   {
    "duration": 0,
    "start_time": "2024-12-26T02:20:29.472Z"
   },
   {
    "duration": 0,
    "start_time": "2024-12-26T02:20:29.473Z"
   },
   {
    "duration": 0,
    "start_time": "2024-12-26T02:20:29.474Z"
   },
   {
    "duration": 0,
    "start_time": "2024-12-26T02:20:29.475Z"
   },
   {
    "duration": 0,
    "start_time": "2024-12-26T02:20:29.476Z"
   },
   {
    "duration": 0,
    "start_time": "2024-12-26T02:20:29.477Z"
   },
   {
    "duration": 0,
    "start_time": "2024-12-26T02:20:29.480Z"
   },
   {
    "duration": 0,
    "start_time": "2024-12-26T02:20:29.482Z"
   },
   {
    "duration": 0,
    "start_time": "2024-12-26T02:20:29.523Z"
   },
   {
    "duration": 0,
    "start_time": "2024-12-26T02:20:29.525Z"
   },
   {
    "duration": 0,
    "start_time": "2024-12-26T02:20:29.526Z"
   },
   {
    "duration": 0,
    "start_time": "2024-12-26T02:20:29.527Z"
   },
   {
    "duration": 0,
    "start_time": "2024-12-26T02:20:29.528Z"
   },
   {
    "duration": 0,
    "start_time": "2024-12-26T02:20:29.529Z"
   },
   {
    "duration": 0,
    "start_time": "2024-12-26T02:20:29.530Z"
   },
   {
    "duration": 0,
    "start_time": "2024-12-26T02:20:29.531Z"
   },
   {
    "duration": 0,
    "start_time": "2024-12-26T02:20:29.532Z"
   },
   {
    "duration": 0,
    "start_time": "2024-12-26T02:20:29.533Z"
   },
   {
    "duration": 0,
    "start_time": "2024-12-26T02:20:29.534Z"
   },
   {
    "duration": 0,
    "start_time": "2024-12-26T02:20:29.536Z"
   },
   {
    "duration": 0,
    "start_time": "2024-12-26T02:20:29.539Z"
   },
   {
    "duration": 0,
    "start_time": "2024-12-26T02:20:29.541Z"
   },
   {
    "duration": 0,
    "start_time": "2024-12-26T02:20:29.542Z"
   },
   {
    "duration": 0,
    "start_time": "2024-12-26T02:20:29.543Z"
   },
   {
    "duration": 0,
    "start_time": "2024-12-26T02:20:29.544Z"
   },
   {
    "duration": 0,
    "start_time": "2024-12-26T02:20:29.545Z"
   },
   {
    "duration": 0,
    "start_time": "2024-12-26T02:20:29.546Z"
   },
   {
    "duration": 0,
    "start_time": "2024-12-26T02:20:29.548Z"
   },
   {
    "duration": 0,
    "start_time": "2024-12-26T02:20:29.549Z"
   },
   {
    "duration": 0,
    "start_time": "2024-12-26T02:20:29.550Z"
   },
   {
    "duration": 0,
    "start_time": "2024-12-26T02:20:29.551Z"
   },
   {
    "duration": 0,
    "start_time": "2024-12-26T02:20:29.552Z"
   },
   {
    "duration": 0,
    "start_time": "2024-12-26T02:20:29.553Z"
   },
   {
    "duration": 0,
    "start_time": "2024-12-26T02:20:29.554Z"
   },
   {
    "duration": 0,
    "start_time": "2024-12-26T02:20:29.555Z"
   },
   {
    "duration": 0,
    "start_time": "2024-12-26T02:20:29.556Z"
   },
   {
    "duration": 0,
    "start_time": "2024-12-26T02:20:29.557Z"
   },
   {
    "duration": 0,
    "start_time": "2024-12-26T02:20:29.561Z"
   },
   {
    "duration": 1617,
    "start_time": "2024-12-26T02:22:41.620Z"
   },
   {
    "duration": 1941,
    "start_time": "2024-12-26T02:22:48.761Z"
   },
   {
    "duration": 1679,
    "start_time": "2024-12-26T02:22:50.704Z"
   },
   {
    "duration": 110,
    "start_time": "2024-12-26T02:22:52.390Z"
   },
   {
    "duration": 1853,
    "start_time": "2024-12-26T02:23:31.297Z"
   },
   {
    "duration": 6895,
    "start_time": "2024-12-26T02:23:33.153Z"
   },
   {
    "duration": 109,
    "start_time": "2024-12-26T02:23:50.236Z"
   },
   {
    "duration": 1882,
    "start_time": "2024-12-26T02:23:57.188Z"
   },
   {
    "duration": 1413,
    "start_time": "2024-12-26T02:23:59.073Z"
   },
   {
    "duration": 1530,
    "start_time": "2024-12-26T02:24:00.488Z"
   },
   {
    "duration": 0,
    "start_time": "2024-12-26T02:24:02.021Z"
   },
   {
    "duration": 0,
    "start_time": "2024-12-26T02:24:02.023Z"
   },
   {
    "duration": 1,
    "start_time": "2024-12-26T02:24:02.024Z"
   },
   {
    "duration": 0,
    "start_time": "2024-12-26T02:24:02.026Z"
   },
   {
    "duration": 0,
    "start_time": "2024-12-26T02:24:02.027Z"
   },
   {
    "duration": 0,
    "start_time": "2024-12-26T02:24:02.029Z"
   },
   {
    "duration": 0,
    "start_time": "2024-12-26T02:24:02.030Z"
   },
   {
    "duration": 0,
    "start_time": "2024-12-26T02:24:02.031Z"
   },
   {
    "duration": 0,
    "start_time": "2024-12-26T02:24:02.032Z"
   },
   {
    "duration": 0,
    "start_time": "2024-12-26T02:24:02.033Z"
   },
   {
    "duration": 0,
    "start_time": "2024-12-26T02:24:02.035Z"
   },
   {
    "duration": 0,
    "start_time": "2024-12-26T02:24:02.037Z"
   },
   {
    "duration": 0,
    "start_time": "2024-12-26T02:24:02.038Z"
   },
   {
    "duration": 0,
    "start_time": "2024-12-26T02:24:02.040Z"
   },
   {
    "duration": 0,
    "start_time": "2024-12-26T02:24:02.042Z"
   },
   {
    "duration": 0,
    "start_time": "2024-12-26T02:24:02.043Z"
   },
   {
    "duration": 0,
    "start_time": "2024-12-26T02:24:02.044Z"
   },
   {
    "duration": 0,
    "start_time": "2024-12-26T02:24:02.045Z"
   },
   {
    "duration": 0,
    "start_time": "2024-12-26T02:24:02.047Z"
   },
   {
    "duration": 0,
    "start_time": "2024-12-26T02:24:02.048Z"
   },
   {
    "duration": 0,
    "start_time": "2024-12-26T02:24:02.049Z"
   },
   {
    "duration": 0,
    "start_time": "2024-12-26T02:24:02.050Z"
   },
   {
    "duration": 0,
    "start_time": "2024-12-26T02:24:02.051Z"
   },
   {
    "duration": 0,
    "start_time": "2024-12-26T02:24:02.053Z"
   },
   {
    "duration": 0,
    "start_time": "2024-12-26T02:24:02.055Z"
   },
   {
    "duration": 0,
    "start_time": "2024-12-26T02:24:02.056Z"
   },
   {
    "duration": 0,
    "start_time": "2024-12-26T02:24:02.057Z"
   },
   {
    "duration": 0,
    "start_time": "2024-12-26T02:24:02.059Z"
   },
   {
    "duration": 0,
    "start_time": "2024-12-26T02:24:02.061Z"
   },
   {
    "duration": 0,
    "start_time": "2024-12-26T02:24:02.062Z"
   },
   {
    "duration": 0,
    "start_time": "2024-12-26T02:24:02.063Z"
   },
   {
    "duration": 0,
    "start_time": "2024-12-26T02:24:02.124Z"
   },
   {
    "duration": 0,
    "start_time": "2024-12-26T02:24:02.125Z"
   },
   {
    "duration": 0,
    "start_time": "2024-12-26T02:24:02.126Z"
   },
   {
    "duration": 0,
    "start_time": "2024-12-26T02:24:02.127Z"
   },
   {
    "duration": 0,
    "start_time": "2024-12-26T02:24:02.128Z"
   },
   {
    "duration": 0,
    "start_time": "2024-12-26T02:24:02.130Z"
   },
   {
    "duration": 0,
    "start_time": "2024-12-26T02:24:02.130Z"
   },
   {
    "duration": 0,
    "start_time": "2024-12-26T02:24:02.131Z"
   },
   {
    "duration": 0,
    "start_time": "2024-12-26T02:24:02.133Z"
   },
   {
    "duration": 0,
    "start_time": "2024-12-26T02:24:02.134Z"
   },
   {
    "duration": 0,
    "start_time": "2024-12-26T02:24:02.136Z"
   },
   {
    "duration": 0,
    "start_time": "2024-12-26T02:24:02.137Z"
   },
   {
    "duration": 0,
    "start_time": "2024-12-26T02:24:02.138Z"
   },
   {
    "duration": 0,
    "start_time": "2024-12-26T02:24:02.140Z"
   },
   {
    "duration": 0,
    "start_time": "2024-12-26T02:24:02.141Z"
   },
   {
    "duration": 0,
    "start_time": "2024-12-26T02:24:02.142Z"
   },
   {
    "duration": 1,
    "start_time": "2024-12-26T02:24:02.143Z"
   },
   {
    "duration": 0,
    "start_time": "2024-12-26T02:24:02.145Z"
   },
   {
    "duration": 0,
    "start_time": "2024-12-26T02:24:02.146Z"
   },
   {
    "duration": 0,
    "start_time": "2024-12-26T02:24:02.147Z"
   },
   {
    "duration": 9345,
    "start_time": "2024-12-26T02:25:10.180Z"
   },
   {
    "duration": 9131,
    "start_time": "2024-12-26T02:26:23.329Z"
   },
   {
    "duration": 1547,
    "start_time": "2024-12-26T02:26:32.463Z"
   },
   {
    "duration": 0,
    "start_time": "2024-12-26T02:26:34.014Z"
   },
   {
    "duration": 0,
    "start_time": "2024-12-26T02:26:34.015Z"
   },
   {
    "duration": 0,
    "start_time": "2024-12-26T02:26:34.024Z"
   },
   {
    "duration": 0,
    "start_time": "2024-12-26T02:26:34.025Z"
   },
   {
    "duration": 0,
    "start_time": "2024-12-26T02:26:34.026Z"
   },
   {
    "duration": 0,
    "start_time": "2024-12-26T02:26:34.028Z"
   },
   {
    "duration": 0,
    "start_time": "2024-12-26T02:26:34.029Z"
   },
   {
    "duration": 0,
    "start_time": "2024-12-26T02:26:34.031Z"
   },
   {
    "duration": 0,
    "start_time": "2024-12-26T02:26:34.032Z"
   },
   {
    "duration": 0,
    "start_time": "2024-12-26T02:26:34.034Z"
   },
   {
    "duration": 0,
    "start_time": "2024-12-26T02:26:34.036Z"
   },
   {
    "duration": 0,
    "start_time": "2024-12-26T02:26:34.037Z"
   },
   {
    "duration": 0,
    "start_time": "2024-12-26T02:26:34.038Z"
   },
   {
    "duration": 0,
    "start_time": "2024-12-26T02:26:34.039Z"
   },
   {
    "duration": 0,
    "start_time": "2024-12-26T02:26:34.040Z"
   },
   {
    "duration": 0,
    "start_time": "2024-12-26T02:26:34.041Z"
   },
   {
    "duration": 0,
    "start_time": "2024-12-26T02:26:34.042Z"
   },
   {
    "duration": 0,
    "start_time": "2024-12-26T02:26:34.043Z"
   },
   {
    "duration": 1,
    "start_time": "2024-12-26T02:26:34.044Z"
   },
   {
    "duration": 0,
    "start_time": "2024-12-26T02:26:34.046Z"
   },
   {
    "duration": 0,
    "start_time": "2024-12-26T02:26:34.047Z"
   },
   {
    "duration": 0,
    "start_time": "2024-12-26T02:26:34.048Z"
   },
   {
    "duration": 0,
    "start_time": "2024-12-26T02:26:34.049Z"
   },
   {
    "duration": 0,
    "start_time": "2024-12-26T02:26:34.050Z"
   },
   {
    "duration": 0,
    "start_time": "2024-12-26T02:26:34.051Z"
   },
   {
    "duration": 0,
    "start_time": "2024-12-26T02:26:34.052Z"
   },
   {
    "duration": 0,
    "start_time": "2024-12-26T02:26:34.053Z"
   },
   {
    "duration": 0,
    "start_time": "2024-12-26T02:26:34.054Z"
   },
   {
    "duration": 0,
    "start_time": "2024-12-26T02:26:34.055Z"
   },
   {
    "duration": 0,
    "start_time": "2024-12-26T02:26:34.056Z"
   },
   {
    "duration": 0,
    "start_time": "2024-12-26T02:26:34.057Z"
   },
   {
    "duration": 0,
    "start_time": "2024-12-26T02:26:34.058Z"
   },
   {
    "duration": 0,
    "start_time": "2024-12-26T02:26:34.059Z"
   },
   {
    "duration": 0,
    "start_time": "2024-12-26T02:26:34.060Z"
   },
   {
    "duration": 0,
    "start_time": "2024-12-26T02:26:34.061Z"
   },
   {
    "duration": 0,
    "start_time": "2024-12-26T02:26:34.063Z"
   },
   {
    "duration": 0,
    "start_time": "2024-12-26T02:26:34.064Z"
   },
   {
    "duration": 0,
    "start_time": "2024-12-26T02:26:34.065Z"
   },
   {
    "duration": 0,
    "start_time": "2024-12-26T02:26:34.066Z"
   },
   {
    "duration": 0,
    "start_time": "2024-12-26T02:26:34.125Z"
   },
   {
    "duration": 0,
    "start_time": "2024-12-26T02:26:34.126Z"
   },
   {
    "duration": 0,
    "start_time": "2024-12-26T02:26:34.127Z"
   },
   {
    "duration": 0,
    "start_time": "2024-12-26T02:26:34.128Z"
   },
   {
    "duration": 0,
    "start_time": "2024-12-26T02:26:34.130Z"
   },
   {
    "duration": 0,
    "start_time": "2024-12-26T02:26:34.132Z"
   },
   {
    "duration": 0,
    "start_time": "2024-12-26T02:26:34.133Z"
   },
   {
    "duration": 0,
    "start_time": "2024-12-26T02:26:34.135Z"
   },
   {
    "duration": 0,
    "start_time": "2024-12-26T02:26:34.136Z"
   },
   {
    "duration": 0,
    "start_time": "2024-12-26T02:26:34.138Z"
   },
   {
    "duration": 0,
    "start_time": "2024-12-26T02:26:34.140Z"
   },
   {
    "duration": 0,
    "start_time": "2024-12-26T02:26:34.141Z"
   },
   {
    "duration": 2972,
    "start_time": "2025-01-04T19:25:13.419Z"
   },
   {
    "duration": 0,
    "start_time": "2025-01-04T19:25:16.392Z"
   },
   {
    "duration": 0,
    "start_time": "2025-01-04T19:25:16.394Z"
   },
   {
    "duration": 17,
    "start_time": "2025-01-04T19:25:38.520Z"
   }
  ],
  "kernelspec": {
   "display_name": "Python 3 (ipykernel)",
   "language": "python",
   "name": "python3"
  },
  "language_info": {
   "codemirror_mode": {
    "name": "ipython",
    "version": 3
   },
   "file_extension": ".py",
   "mimetype": "text/x-python",
   "name": "python",
   "nbconvert_exporter": "python",
   "pygments_lexer": "ipython3",
   "version": "3.12.7"
  },
  "toc": {
   "base_numbering": 1,
   "nav_menu": {},
   "number_sections": true,
   "sideBar": true,
   "skip_h1_title": true,
   "title_cell": "Table of Contents",
   "title_sidebar": "Contents",
   "toc_cell": false,
   "toc_position": {},
   "toc_section_display": true,
   "toc_window_display": false
  }
 },
 "nbformat": 4,
 "nbformat_minor": 4
}
